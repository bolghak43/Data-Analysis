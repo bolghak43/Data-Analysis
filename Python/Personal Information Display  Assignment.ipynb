{
 "cells": [
  {
   "cell_type": "markdown",
   "id": "2dbf5dab-6295-4e54-9cc9-f4cee369cd78",
   "metadata": {},
   "source": [
    "# Personal Information Display  Assignment"
   ]
  },
  {
   "cell_type": "code",
   "execution_count": 12,
   "id": "d034d8e1-1ac3-4937-b059-3683e2cb80a9",
   "metadata": {},
   "outputs": [
    {
     "name": "stdout",
     "output_type": "stream",
     "text": [
      "=== Welcome to the Personal Info Program ===\n"
     ]
    },
    {
     "name": "stdin",
     "output_type": "stream",
     "text": [
      "Enter your first name:  Bol\n",
      "Enter your last name:  Ghak\n",
      "Enter your age:  25\n",
      "What's your favorite hobby?  Reading Books\n"
     ]
    }
   ],
   "source": [
    "# personal_info.py\n",
    "\n",
    "# === Step 1: Collect user input ===\n",
    "print(\"=== Welcome to the Personal Info Program ===\")\n",
    "\n",
    "first_name = input(\"Enter your first name: \")\n",
    "\n",
    "last_name = input(\"Enter your last name: \")\n",
    "\n",
    "age_input = input(\"Enter your age: \")\n",
    "\n",
    "hobby = input(\"What's your favorite hobby? \")\n",
    "\n"
   ]
  },
  {
   "cell_type": "code",
   "execution_count": 13,
   "id": "bb43bafc-7698-40a4-82d7-5207b1023eac",
   "metadata": {},
   "outputs": [],
   "source": [
    "age = int(age_input)\n",
    "\n",
    "# Step 2: Calculate future ages\n",
    "\n",
    "age_in_5 = age + 5\n",
    "\n",
    "age_in_10 = age + 10\n",
    "\n",
    "age_in_20 = age + 20\n",
    "\n",
    "# Step 3: Personalized messages\n",
    "full_name = f\"{first_name} {last_name}\"\n",
    "\n",
    "name_length = len(first_name + last_name)"
   ]
  },
  {
   "cell_type": "code",
   "execution_count": 16,
   "id": "b6476e61-7a28-4801-9194-cbec67923b3d",
   "metadata": {},
   "outputs": [
    {
     "name": "stdout",
     "output_type": "stream",
     "text": [
      "\n",
      "--- Personalized Messages ---\n",
      "Hello, Bol Ghak!\n"
     ]
    }
   ],
   "source": [
    "print(\"\\n--- Personalized Messages ---\")\n",
    "print(f\"Hello, {full_name.title()}!\")"
   ]
  },
  {
   "cell_type": "code",
   "execution_count": 17,
   "id": "74e6e015-f59d-4447-8892-41ac343513dc",
   "metadata": {},
   "outputs": [
    {
     "name": "stdout",
     "output_type": "stream",
     "text": [
      "Your name has 7 characters (excluding spaces).\n",
      "In 5 years, you'll be 30 years old.\n",
      "In 10 years, you'll be 35 years old.\n",
      "In 20 years, you'll be 45 years old.\n",
      "Your favorite hobby is READING BOOKS — awesome!\n"
     ]
    }
   ],
   "source": [
    "print(f\"Your name has {name_length} characters (excluding spaces).\")\n",
    "\n",
    "print(f\"In 5 years, you'll be {age_in_5} years old.\")\n",
    "\n",
    "print(f\"In 10 years, you'll be {age_in_10} years old.\")\n",
    "\n",
    "print(f\"In 20 years, you'll be {age_in_20} years old.\")\n",
    "\n",
    "print(f\"Your favorite hobby is {hobby.upper()} — awesome!\")\n"
   ]
  },
  {
   "cell_type": "code",
   "execution_count": null,
   "id": "77a60160-f4ec-4f60-8069-d501ad0049e9",
   "metadata": {},
   "outputs": [],
   "source": []
  }
 ],
 "metadata": {
  "kernelspec": {
   "display_name": "Python 3 (ipykernel)",
   "language": "python",
   "name": "python3"
  },
  "language_info": {
   "codemirror_mode": {
    "name": "ipython",
    "version": 3
   },
   "file_extension": ".py",
   "mimetype": "text/x-python",
   "name": "python",
   "nbconvert_exporter": "python",
   "pygments_lexer": "ipython3",
   "version": "3.13.5"
  }
 },
 "nbformat": 4,
 "nbformat_minor": 5
}
