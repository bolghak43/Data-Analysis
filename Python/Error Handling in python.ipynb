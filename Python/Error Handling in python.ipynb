{
 "cells": [
  {
   "cell_type": "markdown",
   "id": "85011867-0c5f-4e10-9349-277a7421852d",
   "metadata": {},
   "source": [
    "# Error Handling (What to Do When Things Go Wrong)\n",
    "\n",
    "Sometimes users make mistakes or unexpected things happen. Error handling is like having a\n",
    "safety net for your program."
   ]
  },
  {
   "cell_type": "markdown",
   "id": "2aa84441-2a8c-4b30-9ecd-4c04548d0c07",
   "metadata": {},
   "source": [
    "### Understanding Common Errors"
   ]
  },
  {
   "cell_type": "code",
   "execution_count": 2,
   "id": "87ddd8c4-91a6-42c2-91e9-632872a1a792",
   "metadata": {},
   "outputs": [
    {
     "name": "stdin",
     "output_type": "stream",
     "text": [
      "Enter your age: two\n"
     ]
    },
    {
     "ename": "ValueError",
     "evalue": "invalid literal for int() with base 10: 'two'",
     "output_type": "error",
     "traceback": [
      "\u001b[1;31m---------------------------------------------------------------------------\u001b[0m",
      "\u001b[1;31mValueError\u001b[0m                                Traceback (most recent call last)",
      "Cell \u001b[1;32mIn[2], line 1\u001b[0m\n\u001b[1;32m----> 1\u001b[0m age \u001b[38;5;241m=\u001b[39m \u001b[38;5;28mint\u001b[39m(\u001b[38;5;28minput\u001b[39m(\u001b[38;5;124m\"\u001b[39m\u001b[38;5;124mEnter your age:\u001b[39m\u001b[38;5;124m\"\u001b[39m))\n\u001b[0;32m      3\u001b[0m \u001b[38;5;28mprint\u001b[39m(age)\n",
      "\u001b[1;31mValueError\u001b[0m: invalid literal for int() with base 10: 'two'"
     ]
    }
   ],
   "source": [
    "age = int(input(\"Enter your age:\"))\n",
    "\n",
    "print(age)"
   ]
  },
  {
   "cell_type": "markdown",
   "id": "7db8d34b-e39f-4f84-87b5-229a5b3f8d71",
   "metadata": {},
   "source": [
    "### handling this valueError"
   ]
  },
  {
   "cell_type": "code",
   "execution_count": null,
   "id": "c77a5917-5142-4c02-b775-b818ba586ff5",
   "metadata": {},
   "outputs": [],
   "source": [
    "try:\n",
    "\n",
    "    age = input(\"Enter your age\")\n",
    "    age = int(age)\n",
    "\n",
    "    print(\"You are\", age, \"years old\")\n",
    "\n",
    "except ValueError :\n",
    "\n",
    "    print(\"That's invalid number. Please! enter digit number\")"
   ]
  },
  {
   "cell_type": "code",
   "execution_count": 3,
   "id": "4ccd5d1c-f0c4-46c4-9091-f31bf9b921d8",
   "metadata": {},
   "outputs": [],
   "source": [
    "def safe_division():\n",
    "    try:\n",
    "        num1 = float(input(\"Enter the first number: \"))\n",
    "        num2 = float(input(\"Enter the second number: \"))\n",
    "\n",
    "        result = num1/num2\n",
    "        print(f\"{num1} / {num2} = {result} \")\n",
    "\n",
    "\n",
    "    except ValueError:\n",
    "\n",
    "        print(\"Please! enter digit number.\")\n",
    "\n",
    "    except ZeroDivisionError:\n",
    "\n",
    "        print(\"Cannot divide by zero\")\n",
    "\n",
    "\n",
    "    except e:\n",
    "\n",
    "        print(\"Unknown Error!\", e)"
   ]
  },
  {
   "cell_type": "code",
   "execution_count": 4,
   "id": "0b9ce33b-fbdf-43c9-ba14-3d41341b0b21",
   "metadata": {},
   "outputs": [
    {
     "name": "stdin",
     "output_type": "stream",
     "text": [
      "Enter the first number:  45\n",
      "Enter the second number:  twenty\n"
     ]
    },
    {
     "name": "stdout",
     "output_type": "stream",
     "text": [
      "Please! enter digit number.\n"
     ]
    }
   ],
   "source": [
    "safe_division()"
   ]
  },
  {
   "cell_type": "code",
   "execution_count": null,
   "id": "687d9923-fd86-436f-82da-b0b8a5b631f9",
   "metadata": {},
   "outputs": [],
   "source": []
  },
  {
   "cell_type": "code",
   "execution_count": null,
   "id": "595631eb-94c7-4123-a3eb-97eeb0502f87",
   "metadata": {},
   "outputs": [],
   "source": []
  },
  {
   "cell_type": "markdown",
   "id": "86108bf1-ad6f-4bf1-be59-9b9ade445ac6",
   "metadata": {},
   "source": [
    "### Real-World Error Handling Example"
   ]
  },
  {
   "cell_type": "code",
   "execution_count": 5,
   "id": "9aa64575-60ca-497e-8fff-fcdc8ebd22eb",
   "metadata": {},
   "outputs": [],
   "source": [
    "# Real-World Error Handling Example\n",
    "\n",
    "def get_student_grade():\n",
    "\n",
    "    while True:\n",
    "\n",
    "        try:\n",
    "\n",
    "            name = input(\"students Name: \")\n",
    "\n",
    "            if name.strip() == \"\": # name.strip() function remove empty spaces\n",
    "\n",
    "                print(\"Please enter a valid name\") # this is an alert the user will recieved if empty spaces are there.\n",
    "                continue\n",
    "\n",
    "            score = int(input(\"Enter students score (0 - 100)\"))\n",
    "            if score < 0 or score > 100:\n",
    "                print(\"The score must be between 0 and 100\")\n",
    "                continue\n",
    "\n",
    "            return name, score\n",
    "\n",
    "        except Valueerror:\n",
    "            print(\"Please enter valide number\")\n",
    "            \n",
    "\n",
    "        except KeyboardInterruptError:\n",
    "            exist\n",
    "            \n",
    "\n",
    "        except e:\n",
    "            print(\"Error\", e)"
   ]
  },
  {
   "cell_type": "code",
   "execution_count": 8,
   "id": "9cf9a745-6831-4db5-ad0f-8d517c2363ce",
   "metadata": {},
   "outputs": [
    {
     "name": "stdin",
     "output_type": "stream",
     "text": [
      "students Name:  Bol Ghak\n",
      "Enter students score (0 - 100) 89\n"
     ]
    },
    {
     "data": {
      "text/plain": [
       "('Bol Ghak', 89)"
      ]
     },
     "execution_count": 8,
     "metadata": {},
     "output_type": "execute_result"
    }
   ],
   "source": [
    "get_student_grade()"
   ]
  },
  {
   "cell_type": "code",
   "execution_count": null,
   "id": "f459ebd8-ea31-49bd-85c0-d2fee49fec9d",
   "metadata": {},
   "outputs": [],
   "source": []
  }
 ],
 "metadata": {
  "kernelspec": {
   "display_name": "Python 3 (ipykernel)",
   "language": "python",
   "name": "python3"
  },
  "language_info": {
   "codemirror_mode": {
    "name": "ipython",
    "version": 3
   },
   "file_extension": ".py",
   "mimetype": "text/x-python",
   "name": "python",
   "nbconvert_exporter": "python",
   "pygments_lexer": "ipython3",
   "version": "3.13.5"
  }
 },
 "nbformat": 4,
 "nbformat_minor": 5
}
