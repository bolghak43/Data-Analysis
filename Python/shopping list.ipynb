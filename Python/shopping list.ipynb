{
 "cells": [
  {
   "cell_type": "markdown",
   "id": "7fd5b15c-3764-4a59-9850-c0de92be07d3",
   "metadata": {},
   "source": [
    "# Shopping_card lists with 6 items"
   ]
  },
  {
   "cell_type": "code",
   "execution_count": 6,
   "id": "94ae2476-39d8-4556-9730-c3350a16c8bc",
   "metadata": {},
   "outputs": [
    {
     "name": "stdout",
     "output_type": "stream",
     "text": [
      "['Apam', 'fresh fish', 'Rice', 'Onions', 'Chapati', 'Uga', 'Sneakers', 'chuom', 'chuie', 'vegetable oil']\n"
     ]
    }
   ],
   "source": [
    "# creating shopping list\n",
    "\n",
    "shopping_card = [\"Apam\", \"fresh fish\", \"Rice\", \"Onions\", \"Chapati\", \"Uga\", \"Sneakers\", \"chuom\", \"chuie\", \"vegetable oil\"]\n",
    "\n",
    "print(shopping_card)"
   ]
  },
  {
   "cell_type": "code",
   "execution_count": 7,
   "id": "9e37b592-b023-4e42-bbdd-ae835683f282",
   "metadata": {},
   "outputs": [
    {
     "name": "stdout",
     "output_type": "stream",
     "text": [
      "['Apam', 'fresh fish', 'Rice']\n"
     ]
    }
   ],
   "source": [
    "print(shopping_card[0:3])"
   ]
  },
  {
   "cell_type": "code",
   "execution_count": null,
   "id": "80393e4f-3dbd-4905-a67b-1dedc068ce56",
   "metadata": {},
   "outputs": [],
   "source": []
  }
 ],
 "metadata": {
  "kernelspec": {
   "display_name": "Python 3 (ipykernel)",
   "language": "python",
   "name": "python3"
  },
  "language_info": {
   "codemirror_mode": {
    "name": "ipython",
    "version": 3
   },
   "file_extension": ".py",
   "mimetype": "text/x-python",
   "name": "python",
   "nbconvert_exporter": "python",
   "pygments_lexer": "ipython3",
   "version": "3.13.5"
  }
 },
 "nbformat": 4,
 "nbformat_minor": 5
}
