{
 "cells": [
  {
   "cell_type": "markdown",
   "id": "f7a2b7b1-3a6e-4b5f-bbb0-35e920ea6e6c",
   "metadata": {},
   "source": [
    "# Quick Shop Online – Order Data Cleaning Challenge assignment"
   ]
  },
  {
   "cell_type": "code",
   "execution_count": 90,
   "id": "45aa3b45-51a8-46d1-b6c5-29006adefa5e",
   "metadata": {},
   "outputs": [
    {
     "name": "stdout",
     "output_type": "stream",
     "text": [
      "Successfully imported.\n"
     ]
    }
   ],
   "source": [
    "# start import pandas and numpy libraries\n",
    "\n",
    "import pandas as pd\n",
    "\n",
    "import numpy as np\n",
    "\n",
    "print(\"Successfully imported.\")"
   ]
  },
  {
   "cell_type": "code",
   "execution_count": 91,
   "id": "68a481c7-2323-4145-ae20-0d2bdd031be9",
   "metadata": {},
   "outputs": [
    {
     "data": {
      "text/html": [
       "<div>\n",
       "<style scoped>\n",
       "    .dataframe tbody tr th:only-of-type {\n",
       "        vertical-align: middle;\n",
       "    }\n",
       "\n",
       "    .dataframe tbody tr th {\n",
       "        vertical-align: top;\n",
       "    }\n",
       "\n",
       "    .dataframe thead th {\n",
       "        text-align: right;\n",
       "    }\n",
       "</style>\n",
       "<table border=\"1\" class=\"dataframe\">\n",
       "  <thead>\n",
       "    <tr style=\"text-align: right;\">\n",
       "      <th></th>\n",
       "      <th>order_id</th>\n",
       "      <th>customer_email</th>\n",
       "      <th>Product_Name</th>\n",
       "      <th>unit_price</th>\n",
       "      <th>qty</th>\n",
       "      <th>customer_status</th>\n",
       "      <th>order_date</th>\n",
       "    </tr>\n",
       "  </thead>\n",
       "  <tbody>\n",
       "    <tr>\n",
       "      <th>0</th>\n",
       "      <td>2034</td>\n",
       "      <td>eve@email.com</td>\n",
       "      <td>Wireless Mouse</td>\n",
       "      <td>77.67</td>\n",
       "      <td>1</td>\n",
       "      <td>NEW</td>\n",
       "      <td>NaN</td>\n",
       "    </tr>\n",
       "    <tr>\n",
       "      <th>1</th>\n",
       "      <td>2034</td>\n",
       "      <td>BOB@EMAIL.COM</td>\n",
       "      <td>phone case</td>\n",
       "      <td>55</td>\n",
       "      <td>3</td>\n",
       "      <td>returning</td>\n",
       "      <td>NaN</td>\n",
       "    </tr>\n",
       "    <tr>\n",
       "      <th>2</th>\n",
       "      <td>2003</td>\n",
       "      <td>eve@email.com</td>\n",
       "      <td>HEADPHONES</td>\n",
       "      <td>MISSING</td>\n",
       "      <td>4</td>\n",
       "      <td>NEW</td>\n",
       "      <td>NaN</td>\n",
       "    </tr>\n",
       "    <tr>\n",
       "      <th>3</th>\n",
       "      <td>2043</td>\n",
       "      <td>BOB@EMAIL.COM</td>\n",
       "      <td>Wireless Mouse</td>\n",
       "      <td>MISSING</td>\n",
       "      <td>5</td>\n",
       "      <td>Returning</td>\n",
       "      <td>NaN</td>\n",
       "    </tr>\n",
       "    <tr>\n",
       "      <th>4</th>\n",
       "      <td>2048</td>\n",
       "      <td>charlie@email.com</td>\n",
       "      <td>wireless mouse</td>\n",
       "      <td>67.49</td>\n",
       "      <td>4</td>\n",
       "      <td>NEW</td>\n",
       "      <td>NaN</td>\n",
       "    </tr>\n",
       "  </tbody>\n",
       "</table>\n",
       "</div>"
      ],
      "text/plain": [
       "   order_id     customer_email    Product_Name unit_price  qty  \\\n",
       "0      2034      eve@email.com  Wireless Mouse      77.67    1   \n",
       "1      2034      BOB@EMAIL.COM      phone case         55    3   \n",
       "2      2003      eve@email.com      HEADPHONES    MISSING    4   \n",
       "3      2043      BOB@EMAIL.COM  Wireless Mouse    MISSING    5   \n",
       "4      2048  charlie@email.com  wireless mouse      67.49    4   \n",
       "\n",
       "  customer_status order_date  \n",
       "0             NEW        NaN  \n",
       "1       returning        NaN  \n",
       "2             NEW        NaN  \n",
       "3       Returning        NaN  \n",
       "4             NEW        NaN  "
      ]
     },
     "execution_count": 91,
     "metadata": {},
     "output_type": "execute_result"
    }
   ],
   "source": [
    "# load data cleaning dataset\n",
    "\n",
    "# Alternative way using double backslashes\n",
    "data_cleaning_challenge = pd.read_csv(\"datasets\\\\messy_order_assignment - messy_order_assignment.csv\")\n",
    "\n",
    "data_cleaning_challenge.head(5)"
   ]
  },
  {
   "cell_type": "markdown",
   "id": "530c3d28-c445-42f4-9f59-5a771897a3df",
   "metadata": {},
   "source": [
    "#### Remove extra spaces, lowercase, use underscores"
   ]
  },
  {
   "cell_type": "code",
   "execution_count": 92,
   "id": "f5f1869e-28b0-49e3-8408-0329e1aa4d03",
   "metadata": {},
   "outputs": [
    {
     "name": "stdout",
     "output_type": "stream",
     "text": [
      "108\n"
     ]
    }
   ],
   "source": [
    " # Replace 'MISSING' and '' with np.nan\n",
    "\n",
    "# checking for missing and empty strings\n",
    "\n",
    "missing_prices = (data_cleaning_challenge[\"unit_price\"] == \"MISSING\").sum()\n",
    "\n",
    "print(missing_prices)\n",
    "\n",
    "\n",
    "\n",
    " "
   ]
  },
  {
   "cell_type": "code",
   "execution_count": 93,
   "id": "122ccf72-ba86-49d8-ad3c-cb2395925033",
   "metadata": {},
   "outputs": [
    {
     "data": {
      "text/plain": [
       "0    77.67\n",
       "1       55\n",
       "2      NaN\n",
       "3      NaN\n",
       "4    67.49\n",
       "Name: unit_price, dtype: object"
      ]
     },
     "execution_count": 93,
     "metadata": {},
     "output_type": "execute_result"
    }
   ],
   "source": [
    "# replacing the MISSING values with nan values to recognize by python\n",
    "\n",
    "data_cleaning_challenge[\"unit_price\"] = data_cleaning_challenge[\"unit_price\"].replace(\"MISSING\", np.nan)\n",
    "\n",
    "data_cleaning_challenge[\"unit_price\"].head(5)"
   ]
  },
  {
   "cell_type": "code",
   "execution_count": 94,
   "id": "1a5eccd5-5515-4ec1-9c4f-9be7be78c254",
   "metadata": {},
   "outputs": [
    {
     "name": "stdout",
     "output_type": "stream",
     "text": [
      "Current data types:\n",
      "order_id            int64\n",
      "customer_email     object\n",
      "Product_Name       object\n",
      "unit_price         object\n",
      "qty                 int64\n",
      "customer_status    object\n",
      "order_date         object\n",
      "dtype: object\n"
     ]
    }
   ],
   "source": [
    "# Check current data types\n",
    "\n",
    "print(\"Current data types:\")\n",
    "print(data_cleaning_challenge.dtypes)\n",
    "\n"
   ]
  },
  {
   "cell_type": "code",
   "execution_count": 95,
   "id": "8532ec77-f993-4cad-81a1-6ca42b99ce18",
   "metadata": {},
   "outputs": [
    {
     "name": "stdout",
     "output_type": "stream",
     "text": [
      "0    77.67\n",
      "1    55.00\n",
      "2      NaN\n",
      "3      NaN\n",
      "4    67.49\n",
      "Name: unit_price, dtype: float64\n"
     ]
    }
   ],
   "source": [
    "# Convert unit_price to numeric\n",
    "\n",
    "data_cleaning_challenge['unit_price'] = pd.to_numeric(data_cleaning_challenge['unit_price'], errors='coerce')\n",
    "\n",
    "# View top values\n",
    "print(data_cleaning_challenge['unit_price'].head())\n",
    "\n",
    "\n"
   ]
  },
  {
   "cell_type": "code",
   "execution_count": 96,
   "id": "f7aa0d94-ccb2-4b06-9af0-3d0e10b5c842",
   "metadata": {},
   "outputs": [],
   "source": [
    "# Fill missing prices with the median price \n",
    "\n",
    "# Strategy 2: Fill missing values with median\n",
    "\n",
    "# Step 1: Create a copy\n",
    "\n",
    "data_cleaning_filling = data_cleaning_challenge.copy()\n"
   ]
  },
  {
   "cell_type": "code",
   "execution_count": 97,
   "id": "adf30c1b-b543-40ad-9399-821456552547",
   "metadata": {},
   "outputs": [],
   "source": [
    "# Step 2: Convert 'Price' column to numeric in the COPY\n",
    "\n",
    "data_cleaning_filling[\"unit_price\"] = pd.to_numeric(data_cleaning_filling[\"unit_price\"], errors=\"coerce\")\n"
   ]
  },
  {
   "cell_type": "code",
   "execution_count": 98,
   "id": "c9458b16-192a-424e-a001-c208f1dd1c75",
   "metadata": {},
   "outputs": [],
   "source": [
    "# Step 3: Calculate median (safe, now it's numeric)\n",
    "\n",
    "median_price = data_cleaning_filling[\"unit_price\"].median()"
   ]
  },
  {
   "cell_type": "code",
   "execution_count": 99,
   "id": "31b75d34-eca2-4dba-9405-a88645fa45ca",
   "metadata": {},
   "outputs": [
    {
     "data": {
      "text/plain": [
       "0    77.67\n",
       "1    55.00\n",
       "2    82.48\n",
       "3    82.48\n",
       "4    67.49\n",
       "Name: unit_price, dtype: float64"
      ]
     },
     "execution_count": 99,
     "metadata": {},
     "output_type": "execute_result"
    }
   ],
   "source": [
    "# Step 4: Fill missing values with the median\n",
    "\n",
    "data_cleaning_filling[\"unit_price\"] = data_cleaning_filling[\"unit_price\"].fillna(median_price)\n",
    "\n",
    "data_cleaning_filling[\"unit_price\"].head(5)"
   ]
  },
  {
   "cell_type": "code",
   "execution_count": 100,
   "id": "660e7e62-057e-4c3a-a35b-c3841aae79b5",
   "metadata": {},
   "outputs": [],
   "source": [
    "# Fill missing dates with foward filling\n",
    "\n",
    "data_cleaning_filling[\"order_date\"] = data_cleaning_filling[\"order_date\"].ffill()\n"
   ]
  },
  {
   "cell_type": "code",
   "execution_count": 101,
   "id": "7fe67f5f-de0d-4f0e-bf11-605e9d73c015",
   "metadata": {},
   "outputs": [],
   "source": [
    "# Fill missing dates with backward filling\n",
    "\n",
    "data_cleaning_filling[\"order_date\"] = data_cleaning_filling[\"order_date\"].bfill()\n"
   ]
  },
  {
   "cell_type": "code",
   "execution_count": 102,
   "id": "ec84b4bf-2098-4aea-a7c3-7a453378f138",
   "metadata": {},
   "outputs": [
    {
     "name": "stdout",
     "output_type": "stream",
     "text": [
      "order_id           0\n",
      "customer_email     0\n",
      "Product_Name       0\n",
      "unit_price         0\n",
      "qty                0\n",
      "customer_status    0\n",
      "order_date         0\n",
      "dtype: int64\n"
     ]
    }
   ],
   "source": [
    "\n",
    "print(data_cleaning_filling.isnull().sum())\n"
   ]
  },
  {
   "cell_type": "markdown",
   "id": "0741f178-4704-4b34-bd10-ff3baab17366",
   "metadata": {},
   "source": [
    " ### Fix inconsistent formatting:\n",
    "   "
   ]
  },
  {
   "cell_type": "code",
   "execution_count": 103,
   "id": "b7806352-c8ac-4698-ac42-cbf23b68be47",
   "metadata": {},
   "outputs": [
    {
     "name": "stdout",
     "output_type": "stream",
     "text": [
      "['order_id', 'customer_email', 'Product Name', 'unit_price', 'qty', 'customer_status', 'order_date']\n"
     ]
    }
   ],
   "source": [
    "# Strip and title-case Product_Name\n",
    "\n",
    "data_cleaning_challenge.rename(columns={\"Product_Name\": \"Product Name\"}, inplace=True)\n",
    "\n",
    "print(data_cleaning_challenge.columns.tolist())\n"
   ]
  },
  {
   "cell_type": "code",
   "execution_count": 104,
   "id": "dda23bbd-f0e6-421a-9881-0530853332df",
   "metadata": {},
   "outputs": [],
   "source": [
    "# Standardize customer_status to 'New' and 'Returning'\n",
    "\n",
    "# Step 1: Convert to lowercase to standardize text\n",
    "data_cleaning_challenge['customer_status'] = data_cleaning_challenge['customer_status'].str.lower()\n",
    "\n",
    "\n",
    "\n",
    " "
   ]
  },
  {
   "cell_type": "code",
   "execution_count": 105,
   "id": "bc01d10f-b748-435d-bfb6-3f87949ba464",
   "metadata": {},
   "outputs": [],
   "source": [
    "# Step 2: Map cleaned values to standard ones\n",
    "data_cleaning_challenge['customer_status'] = data_cleaning_challenge['customer_status'].map({\n",
    "    'new': 'New',\n",
    "    'returning': 'Returning'\n",
    "})\n",
    "\n"
   ]
  },
  {
   "cell_type": "code",
   "execution_count": 106,
   "id": "ac5def9b-4d2f-4433-ac1e-65262757fc97",
   "metadata": {},
   "outputs": [
    {
     "name": "stdout",
     "output_type": "stream",
     "text": [
      "['New' 'Returning']\n"
     ]
    }
   ],
   "source": [
    "\n",
    "print(data_cleaning_challenge['customer_status'].unique())"
   ]
  },
  {
   "cell_type": "code",
   "execution_count": 107,
   "id": "1fd4f158-ac45-412e-ae40-ad37bc26246b",
   "metadata": {},
   "outputs": [],
   "source": [
    "# Lowercase all emails\n",
    "\n",
    "data_cleaning_challenge['customer_email'] = data_cleaning_challenge['customer_email'].str.lower()\n",
    "\n"
   ]
  },
  {
   "cell_type": "code",
   "execution_count": 108,
   "id": "ffc38bef-6991-4ac8-b2a1-2b5580f821ba",
   "metadata": {},
   "outputs": [
    {
     "name": "stdout",
     "output_type": "stream",
     "text": [
      "0        eve@email.com\n",
      "1        bob@email.com\n",
      "2        eve@email.com\n",
      "3        bob@email.com\n",
      "4    charlie@email.com\n",
      "5        bob@email.com\n",
      "6      diana@email.com\n",
      "7      alice@email.com\n",
      "8    charlie@email.com\n",
      "9    charlie@email.com\n",
      "Name: customer_email, dtype: object\n"
     ]
    }
   ],
   "source": [
    "print(data_cleaning_challenge['customer_email'].head(10))\n"
   ]
  },
  {
   "cell_type": "markdown",
   "id": "fae8e6f6-e028-45b4-a762-12446cad05b8",
   "metadata": {},
   "source": [
    "### Remove duplicate rows  \n",
    "\n",
    "   "
   ]
  },
  {
   "cell_type": "code",
   "execution_count": 109,
   "id": "8023d830-8f43-4056-802a-ccb041ba3ef7",
   "metadata": {},
   "outputs": [
    {
     "name": "stdout",
     "output_type": "stream",
     "text": [
      "Total rows: 230\n",
      "Duplicate rows: 10\n"
     ]
    }
   ],
   "source": [
    "# Check for duplicates\n",
    "\n",
    "print(f\"Total rows: {len(data_cleaning_challenge)}\")\n",
    "\n",
    "print(f\"Duplicate rows: {data_cleaning_challenge.duplicated().sum()}\")\n",
    "\n"
   ]
  },
  {
   "cell_type": "code",
   "execution_count": 110,
   "id": "2fe535b1-be82-4298-a9cc-0390fdc2624e",
   "metadata": {},
   "outputs": [
    {
     "name": "stdout",
     "output_type": "stream",
     "text": [
      "Duplicates unit_price removed!\n"
     ]
    }
   ],
   "source": [
    "# Remove duplicates based on specific columns\n",
    "# unit_price: float\n",
    "\n",
    "data_cleaning_challenge = data_cleaning_challenge.drop_duplicates(subset=['unit_price'])\n",
    "print(\"Duplicates unit_price removed!\")"
   ]
  },
  {
   "cell_type": "code",
   "execution_count": 111,
   "id": "7eae7a6e-165f-42c7-ad4b-7a1c0f4050bc",
   "metadata": {},
   "outputs": [
    {
     "name": "stdout",
     "output_type": "stream",
     "text": [
      "Duplicates order_date removed!\n"
     ]
    }
   ],
   "source": [
    "# order_date: datetime\n",
    "\n",
    "data_cleaning_challenge = data_cleaning_challenge.drop_duplicates(subset=['order_date'])\n",
    "print(\"Duplicates order_date removed!\")\n"
   ]
  },
  {
   "cell_type": "code",
   "execution_count": null,
   "id": "49a8cf1e-846d-415f-af16-d936b4b1e13a",
   "metadata": {},
   "outputs": [],
   "source": []
  }
 ],
 "metadata": {
  "kernelspec": {
   "display_name": "Python 3 (ipykernel)",
   "language": "python",
   "name": "python3"
  },
  "language_info": {
   "codemirror_mode": {
    "name": "ipython",
    "version": 3
   },
   "file_extension": ".py",
   "mimetype": "text/x-python",
   "name": "python",
   "nbconvert_exporter": "python",
   "pygments_lexer": "ipython3",
   "version": "3.13.5"
  }
 },
 "nbformat": 4,
 "nbformat_minor": 5
}
