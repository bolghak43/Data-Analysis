{
 "cells": [
  {
   "cell_type": "markdown",
   "id": "2804a6af-bb41-405d-8fe6-6393e225764b",
   "metadata": {},
   "source": [
    "# Reading and Exploring Data with Pandas"
   ]
  },
  {
   "cell_type": "markdown",
   "id": "0ea6cac1-8ee8-4619-bf4b-1de64ca52fef",
   "metadata": {},
   "source": [
    "## 2.1 Reading Data into Pandas"
   ]
  },
  {
   "cell_type": "code",
   "execution_count": 29,
   "id": "922492b0-e0ae-41b3-b51d-36d80e40296b",
   "metadata": {},
   "outputs": [
    {
     "name": "stdout",
     "output_type": "stream",
     "text": [
      "Pandas imported successfully\n"
     ]
    }
   ],
   "source": [
    "# importing pandas library\n",
    "\n",
    "import pandas as pd\n",
    "\n",
    "print(\"Pandas imported successfully\")"
   ]
  },
  {
   "cell_type": "markdown",
   "id": "1c63ce87-de4d-4805-a740-71ebcfb89978",
   "metadata": {},
   "source": [
    "#### 1. Loading CSV Files"
   ]
  },
  {
   "cell_type": "code",
   "execution_count": 30,
   "id": "729cca0a-17ee-4f2e-800c-9025ac764c23",
   "metadata": {},
   "outputs": [
    {
     "name": "stdout",
     "output_type": "stream",
     "text": [
      "Datasets loaded successfully\n"
     ]
    }
   ],
   "source": [
    "# Method 1 : load from the local file on your computer\n",
    "\n",
    "df = pd.read_csv('datasets\\sales_data.csv')\n",
    "\n",
    "print(\"Datasets loaded successfully\") # the datasets is loaded successfully\n",
    "\n",
    "\n"
   ]
  },
  {
   "cell_type": "markdown",
   "id": "dfdcb7e2-7e13-4826-bffe-5e2aa9a237de",
   "metadata": {},
   "source": [
    "#### 2. Loading Excel Files"
   ]
  },
  {
   "cell_type": "code",
   "execution_count": 31,
   "id": "c5ff3823-0afc-4f40-943c-0eb0d5af7bfe",
   "metadata": {},
   "outputs": [
    {
     "name": "stdout",
     "output_type": "stream",
     "text": [
      "Student grades excel sheet loaded successfully\n"
     ]
    }
   ],
   "source": [
    "# loading specific sheet from an excel workbook\n",
    "\n",
    "df = pd.read_excel(\"datasets\\student_grades.xlsx\")\n",
    "\n",
    "print(\"Student grades excel sheet loaded successfully\")\n",
    "\n",
    "\n",
    "# loading multiple excel sheets at once\n",
    "\n"
   ]
  },
  {
   "cell_type": "code",
   "execution_count": 32,
   "id": "d3f510a7-3c04-4b76-aa79-41b65c99f79e",
   "metadata": {},
   "outputs": [
    {
     "name": "stdout",
     "output_type": "stream",
     "text": [
      "January sheet was loaded successfully\n",
      "February sheet was loaded successfully\n",
      "March sheet was loaded successfully\n"
     ]
    }
   ],
   "source": [
    "# loading specific January worksheet from excel\n",
    "\n",
    "monthly_report = pd.read_excel(\"datasets\\monthly_reports.xlsx\", sheet_name = \"January\")\n",
    "\n",
    "print(\"January sheet was loaded successfully\")\n",
    "\n",
    "\n",
    "# loading specific febraury worsheet from excel\n",
    "\n",
    "monthly_report = pd.read_excel(\"datasets\\monthly_reports.xlsx\", sheet_name = \"February\")\n",
    "\n",
    "print(\"February sheet was loaded successfully\")\n",
    "\n",
    "\n",
    "# loading March specific March worksheet from excel\n",
    "\n",
    "monthly_report = pd.read_excel(\"datasets\\monthly_reports.xlsx\", sheet_name = \"March\")\n",
    "\n",
    "print(\"March sheet was loaded successfully\")"
   ]
  },
  {
   "cell_type": "markdown",
   "id": "1855f264-8e5c-47e8-b900-8a9843388416",
   "metadata": {},
   "source": [
    "## 2.2 Exploring DataFrames"
   ]
  },
  {
   "cell_type": "code",
   "execution_count": 33,
   "id": "ad63ad16-e77b-446c-bc2a-34e2776072b6",
   "metadata": {},
   "outputs": [
    {
     "name": "stdout",
     "output_type": "stream",
     "text": [
      "Loaded successfully\n"
     ]
    }
   ],
   "source": [
    "# 1. load sales data\n",
    "\n",
    "df = pd.read_csv(\"datasets\\sales_data.csv\")\n",
    "\n",
    "print(\"Loaded successfully\")"
   ]
  },
  {
   "cell_type": "code",
   "execution_count": 36,
   "id": "45f62da9-f1ca-4f04-b837-5ad1ab333b6d",
   "metadata": {},
   "outputs": [
    {
     "name": "stdout",
     "output_type": "stream",
     "text": [
      "Top 5 row\n"
     ]
    },
    {
     "data": {
      "text/html": [
       "<div>\n",
       "<style scoped>\n",
       "    .dataframe tbody tr th:only-of-type {\n",
       "        vertical-align: middle;\n",
       "    }\n",
       "\n",
       "    .dataframe tbody tr th {\n",
       "        vertical-align: top;\n",
       "    }\n",
       "\n",
       "    .dataframe thead th {\n",
       "        text-align: right;\n",
       "    }\n",
       "</style>\n",
       "<table border=\"1\" class=\"dataframe\">\n",
       "  <thead>\n",
       "    <tr style=\"text-align: right;\">\n",
       "      <th></th>\n",
       "      <th>Date</th>\n",
       "      <th>Product</th>\n",
       "      <th>Category</th>\n",
       "      <th>Price</th>\n",
       "      <th>Quantity</th>\n",
       "      <th>Customer_Type</th>\n",
       "    </tr>\n",
       "  </thead>\n",
       "  <tbody>\n",
       "    <tr>\n",
       "      <th>0</th>\n",
       "      <td>2024-02-11</td>\n",
       "      <td>Croissant</td>\n",
       "      <td>Food</td>\n",
       "      <td>2.87</td>\n",
       "      <td>5</td>\n",
       "      <td>New</td>\n",
       "    </tr>\n",
       "    <tr>\n",
       "      <th>1</th>\n",
       "      <td>2024-01-07</td>\n",
       "      <td>Bagel</td>\n",
       "      <td>Food</td>\n",
       "      <td>2.40</td>\n",
       "      <td>5</td>\n",
       "      <td>New</td>\n",
       "    </tr>\n",
       "    <tr>\n",
       "      <th>2</th>\n",
       "      <td>2024-01-29</td>\n",
       "      <td>Mocha</td>\n",
       "      <td>Beverage</td>\n",
       "      <td>5.32</td>\n",
       "      <td>2</td>\n",
       "      <td>New</td>\n",
       "    </tr>\n",
       "    <tr>\n",
       "      <th>3</th>\n",
       "      <td>2024-02-14</td>\n",
       "      <td>Americano</td>\n",
       "      <td>Beverage</td>\n",
       "      <td>4.25</td>\n",
       "      <td>2</td>\n",
       "      <td>New</td>\n",
       "    </tr>\n",
       "    <tr>\n",
       "      <th>4</th>\n",
       "      <td>2024-02-21</td>\n",
       "      <td>Mocha</td>\n",
       "      <td>Beverage</td>\n",
       "      <td>3.15</td>\n",
       "      <td>1</td>\n",
       "      <td>Regular</td>\n",
       "    </tr>\n",
       "  </tbody>\n",
       "</table>\n",
       "</div>"
      ],
      "text/plain": [
       "         Date    Product  Category  Price  Quantity Customer_Type\n",
       "0  2024-02-11  Croissant      Food   2.87         5           New\n",
       "1  2024-01-07      Bagel      Food   2.40         5           New\n",
       "2  2024-01-29      Mocha  Beverage   5.32         2           New\n",
       "3  2024-02-14  Americano  Beverage   4.25         2           New\n",
       "4  2024-02-21      Mocha  Beverage   3.15         1       Regular"
      ]
     },
     "execution_count": 36,
     "metadata": {},
     "output_type": "execute_result"
    }
   ],
   "source": [
    "# print top 5 rows\n",
    "print(\"Top 5 row\")\n",
    "df.head(5)"
   ]
  },
  {
   "cell_type": "code",
   "execution_count": 38,
   "id": "f1a3bcc3-df78-46f0-a579-1a9c5742d7e5",
   "metadata": {},
   "outputs": [
    {
     "name": "stdout",
     "output_type": "stream",
     "text": [
      "Last 5 rows\n"
     ]
    },
    {
     "data": {
      "text/html": [
       "<div>\n",
       "<style scoped>\n",
       "    .dataframe tbody tr th:only-of-type {\n",
       "        vertical-align: middle;\n",
       "    }\n",
       "\n",
       "    .dataframe tbody tr th {\n",
       "        vertical-align: top;\n",
       "    }\n",
       "\n",
       "    .dataframe thead th {\n",
       "        text-align: right;\n",
       "    }\n",
       "</style>\n",
       "<table border=\"1\" class=\"dataframe\">\n",
       "  <thead>\n",
       "    <tr style=\"text-align: right;\">\n",
       "      <th></th>\n",
       "      <th>Date</th>\n",
       "      <th>Product</th>\n",
       "      <th>Category</th>\n",
       "      <th>Price</th>\n",
       "      <th>Quantity</th>\n",
       "      <th>Customer_Type</th>\n",
       "    </tr>\n",
       "  </thead>\n",
       "  <tbody>\n",
       "    <tr>\n",
       "      <th>25</th>\n",
       "      <td>2024-02-10</td>\n",
       "      <td>Cappuccino</td>\n",
       "      <td>Beverage</td>\n",
       "      <td>2.89</td>\n",
       "      <td>3</td>\n",
       "      <td>Regular</td>\n",
       "    </tr>\n",
       "    <tr>\n",
       "      <th>26</th>\n",
       "      <td>2024-03-08</td>\n",
       "      <td>Muffin</td>\n",
       "      <td>Food</td>\n",
       "      <td>2.99</td>\n",
       "      <td>4</td>\n",
       "      <td>New</td>\n",
       "    </tr>\n",
       "    <tr>\n",
       "      <th>27</th>\n",
       "      <td>2024-03-29</td>\n",
       "      <td>Espresso</td>\n",
       "      <td>Beverage</td>\n",
       "      <td>5.45</td>\n",
       "      <td>5</td>\n",
       "      <td>New</td>\n",
       "    </tr>\n",
       "    <tr>\n",
       "      <th>28</th>\n",
       "      <td>2024-02-20</td>\n",
       "      <td>Espresso</td>\n",
       "      <td>Beverage</td>\n",
       "      <td>4.32</td>\n",
       "      <td>1</td>\n",
       "      <td>New</td>\n",
       "    </tr>\n",
       "    <tr>\n",
       "      <th>29</th>\n",
       "      <td>2024-03-13</td>\n",
       "      <td>Croissant</td>\n",
       "      <td>Food</td>\n",
       "      <td>3.03</td>\n",
       "      <td>5</td>\n",
       "      <td>New</td>\n",
       "    </tr>\n",
       "  </tbody>\n",
       "</table>\n",
       "</div>"
      ],
      "text/plain": [
       "          Date     Product  Category  Price  Quantity Customer_Type\n",
       "25  2024-02-10  Cappuccino  Beverage   2.89         3       Regular\n",
       "26  2024-03-08      Muffin      Food   2.99         4           New\n",
       "27  2024-03-29    Espresso  Beverage   5.45         5           New\n",
       "28  2024-02-20    Espresso  Beverage   4.32         1           New\n",
       "29  2024-03-13   Croissant      Food   3.03         5           New"
      ]
     },
     "execution_count": 38,
     "metadata": {},
     "output_type": "execute_result"
    }
   ],
   "source": [
    "# print last 5 rows\n",
    "\n",
    "print(\"Last 5 rows\")\n",
    "df.tail(5)"
   ]
  },
  {
   "cell_type": "markdown",
   "id": "a582db0e-04c2-4492-82b3-36fcaa3adb31",
   "metadata": {},
   "source": [
    "### Understanding Your Data Structure"
   ]
  },
  {
   "cell_type": "code",
   "execution_count": 48,
   "id": "242c10fb-10ca-471f-b4d4-ee1de4720123",
   "metadata": {},
   "outputs": [
    {
     "name": "stdout",
     "output_type": "stream",
     "text": [
      "Dataset Information\n",
      "<class 'pandas.core.frame.DataFrame'>\n",
      "RangeIndex: 30 entries, 0 to 29\n",
      "Data columns (total 6 columns):\n",
      " #   Column         Non-Null Count  Dtype  \n",
      "---  ------         --------------  -----  \n",
      " 0   Date           30 non-null     object \n",
      " 1   Product        30 non-null     object \n",
      " 2   Category       30 non-null     object \n",
      " 3   Price          30 non-null     float64\n",
      " 4   Quantity       30 non-null     int64  \n",
      " 5   Customer_Type  30 non-null     object \n",
      "dtypes: float64(1), int64(1), object(4)\n",
      "memory usage: 1.5+ KB\n",
      "None\n"
     ]
    }
   ],
   "source": [
    "# getting the basic information of your datasets\n",
    "\n",
    "print(\"Dataset Information\")\n",
    "print(df.info())\n",
    "\n"
   ]
  },
  {
   "cell_type": "code",
   "execution_count": 49,
   "id": "38b7ca1a-2d14-4bf2-85fa-2891e3b5d545",
   "metadata": {},
   "outputs": [
    {
     "name": "stdout",
     "output_type": "stream",
     "text": [
      "Dataset shape\n"
     ]
    },
    {
     "data": {
      "text/plain": [
       "(30, 6)"
      ]
     },
     "execution_count": 49,
     "metadata": {},
     "output_type": "execute_result"
    }
   ],
   "source": [
    "# get to know number of rows and columns you have.\n",
    "\n",
    "print(\"Dataset shape\")\n",
    "df.shape\n",
    "\n"
   ]
  },
  {
   "cell_type": "code",
   "execution_count": 51,
   "id": "a558bfd9-6ec3-419a-b261-2012da191393",
   "metadata": {},
   "outputs": [
    {
     "name": "stdout",
     "output_type": "stream",
     "text": [
      "Summary statistic\n",
      "           Price   Quantity\n",
      "count  30.000000  30.000000\n",
      "mean    3.750667   3.300000\n",
      "std     0.920858   1.556964\n",
      "min     2.400000   1.000000\n",
      "25%     3.000000   2.000000\n",
      "50%     3.660000   4.000000\n",
      "75%     4.305000   5.000000\n",
      "max     5.490000   5.000000\n"
     ]
    }
   ],
   "source": [
    "# Getting Summary Statistics of your numerical columns in the dataset\n",
    "\n",
    "print(\"Summary statistic\")\n",
    "print(df.describe())\n",
    "\n"
   ]
  },
  {
   "cell_type": "markdown",
   "id": "9236d411-ef98-4a3e-a880-8ed337024078",
   "metadata": {},
   "source": [
    "## 2.3 Selecting data\n",
    "\n",
    "Now that you know what's in your dataset, let's learn how to grab exactly the pieces you need. Think of\n",
    "this as using a smart filter to find specific information.\n",
    "\n",
    "#### Selecting columns"
   ]
  },
  {
   "cell_type": "code",
   "execution_count": 54,
   "id": "9da5e138-3e9c-4aed-82a9-0ba386f00c63",
   "metadata": {},
   "outputs": [
    {
     "name": "stdout",
     "output_type": "stream",
     "text": [
      "Product only needed: \n",
      "0      Croissant\n",
      "1          Bagel\n",
      "2          Mocha\n",
      "3      Americano\n",
      "4          Mocha\n",
      "5      Americano\n",
      "6          Latte\n",
      "7      Americano\n",
      "8         Muffin\n",
      "9      Americano\n",
      "10     Croissant\n",
      "11         Bagel\n",
      "12    Cappuccino\n",
      "13      Espresso\n",
      "14     Croissant\n",
      "15     Americano\n",
      "16      Espresso\n",
      "17     Americano\n",
      "18    Cappuccino\n",
      "19      Espresso\n",
      "20     Americano\n",
      "21         Mocha\n",
      "22     Americano\n",
      "23     Croissant\n",
      "24    Cappuccino\n",
      "25    Cappuccino\n",
      "26        Muffin\n",
      "27      Espresso\n",
      "28      Espresso\n",
      "29     Croissant\n",
      "Name: Product, dtype: object\n"
     ]
    }
   ],
   "source": [
    "# selecting one column\n",
    "\n",
    "product_column = df[\"Product\"]\n",
    "print(\"Product only needed: \")\n",
    "print(product_column)"
   ]
  },
  {
   "cell_type": "code",
   "execution_count": 55,
   "id": "a0039ee2-bfe1-48a2-b3f5-053ef1054616",
   "metadata": {},
   "outputs": [
    {
     "name": "stdout",
     "output_type": "stream",
     "text": [
      "       Product  Price  Quantity\n",
      "0    Croissant   2.87         5\n",
      "1        Bagel   2.40         5\n",
      "2        Mocha   5.32         2\n",
      "3    Americano   4.25         2\n",
      "4        Mocha   3.15         1\n",
      "5    Americano   5.48         4\n",
      "6        Latte   4.39         5\n",
      "7    Americano   5.49         5\n",
      "8       Muffin   3.57         1\n",
      "9    Americano   2.79         4\n",
      "10   Croissant   3.69         4\n",
      "11       Bagel   3.92         4\n",
      "12  Cappuccino   3.72         2\n",
      "13    Espresso   2.73         1\n",
      "14   Croissant   2.54         5\n",
      "15   Americano   3.33         1\n",
      "16    Espresso   4.26         3\n",
      "17   Americano   3.67         2\n",
      "18  Cappuccino   4.84         2\n",
      "19    Espresso   3.78         5\n",
      "20   Americano   4.60         5\n",
      "21       Mocha   3.65         2\n",
      "22   Americano   3.60         2\n",
      "23   Croissant   3.14         4\n",
      "24  Cappuccino   2.66         5\n",
      "25  Cappuccino   2.89         3\n",
      "26      Muffin   2.99         4\n",
      "27    Espresso   5.45         5\n",
      "28    Espresso   4.32         1\n",
      "29   Croissant   3.03         5\n"
     ]
    }
   ],
   "source": [
    "# Selecting multiple columns\n",
    "\n",
    "product_and_price = df[[\"Product\", \"Price\", \"Quantity\"]]\n",
    "\n",
    "print(product_and_price)\n"
   ]
  },
  {
   "cell_type": "markdown",
   "id": "d619d893-ad78-46d9-8e1e-fcf454ad9458",
   "metadata": {},
   "source": [
    "### Selecting row\n",
    "\n",
    "#### using .iloc[]"
   ]
  },
  {
   "cell_type": "code",
   "execution_count": 57,
   "id": "b6c90d2e-121c-4d0a-9ad7-f9ba04b9bf19",
   "metadata": {},
   "outputs": [
    {
     "data": {
      "text/plain": [
       "Date             2024-02-11\n",
       "Product           Croissant\n",
       "Category               Food\n",
       "Price                  2.87\n",
       "Quantity                  5\n",
       "Customer_Type           New\n",
       "Name: 0, dtype: object"
      ]
     },
     "execution_count": 57,
     "metadata": {},
     "output_type": "execute_result"
    }
   ],
   "source": [
    "first_row = df.iloc[0]\n",
    "first_row"
   ]
  },
  {
   "cell_type": "code",
   "execution_count": 59,
   "id": "c9727474-8ef3-48e5-8a68-70b4cc5c8a46",
   "metadata": {},
   "outputs": [
    {
     "data": {
      "text/html": [
       "<div>\n",
       "<style scoped>\n",
       "    .dataframe tbody tr th:only-of-type {\n",
       "        vertical-align: middle;\n",
       "    }\n",
       "\n",
       "    .dataframe tbody tr th {\n",
       "        vertical-align: top;\n",
       "    }\n",
       "\n",
       "    .dataframe thead th {\n",
       "        text-align: right;\n",
       "    }\n",
       "</style>\n",
       "<table border=\"1\" class=\"dataframe\">\n",
       "  <thead>\n",
       "    <tr style=\"text-align: right;\">\n",
       "      <th></th>\n",
       "      <th>Date</th>\n",
       "      <th>Product</th>\n",
       "      <th>Category</th>\n",
       "      <th>Price</th>\n",
       "      <th>Quantity</th>\n",
       "      <th>Customer_Type</th>\n",
       "    </tr>\n",
       "  </thead>\n",
       "  <tbody>\n",
       "    <tr>\n",
       "      <th>0</th>\n",
       "      <td>2024-02-11</td>\n",
       "      <td>Croissant</td>\n",
       "      <td>Food</td>\n",
       "      <td>2.87</td>\n",
       "      <td>5</td>\n",
       "      <td>New</td>\n",
       "    </tr>\n",
       "    <tr>\n",
       "      <th>1</th>\n",
       "      <td>2024-01-07</td>\n",
       "      <td>Bagel</td>\n",
       "      <td>Food</td>\n",
       "      <td>2.40</td>\n",
       "      <td>5</td>\n",
       "      <td>New</td>\n",
       "    </tr>\n",
       "    <tr>\n",
       "      <th>2</th>\n",
       "      <td>2024-01-29</td>\n",
       "      <td>Mocha</td>\n",
       "      <td>Beverage</td>\n",
       "      <td>5.32</td>\n",
       "      <td>2</td>\n",
       "      <td>New</td>\n",
       "    </tr>\n",
       "  </tbody>\n",
       "</table>\n",
       "</div>"
      ],
      "text/plain": [
       "         Date    Product  Category  Price  Quantity Customer_Type\n",
       "0  2024-02-11  Croissant      Food   2.87         5           New\n",
       "1  2024-01-07      Bagel      Food   2.40         5           New\n",
       "2  2024-01-29      Mocha  Beverage   5.32         2           New"
      ]
     },
     "execution_count": 59,
     "metadata": {},
     "output_type": "execute_result"
    }
   ],
   "source": [
    "first_3_rows = df.iloc[0:3]\n",
    "first_3_rows"
   ]
  },
  {
   "cell_type": "markdown",
   "id": "9197b4ad-86ac-4557-88a6-f64c94fed503",
   "metadata": {},
   "source": [
    "### Using .loc[] (Label-Based Selection)\n",
    "\n",
    "Think of .loc as \"I want the row where the condition is true\""
   ]
  },
  {
   "cell_type": "code",
   "execution_count": null,
   "id": "773989e5-15d1-4d04-94aa-c2b868f58fd6",
   "metadata": {},
   "outputs": [],
   "source": []
  },
  {
   "cell_type": "markdown",
   "id": "b229412d-cd9b-4740-987e-8b6e9e7d4d26",
   "metadata": {},
   "source": [
    "## Filtering Data (The Real Magic!) \n",
    "\n",
    "This is where pandas really shines – finding exactly what you're looking for:"
   ]
  },
  {
   "cell_type": "code",
   "execution_count": 62,
   "id": "95aa4bb3-4a73-4e0f-ab85-ea337b49872c",
   "metadata": {},
   "outputs": [
    {
     "data": {
      "text/html": [
       "<div>\n",
       "<style scoped>\n",
       "    .dataframe tbody tr th:only-of-type {\n",
       "        vertical-align: middle;\n",
       "    }\n",
       "\n",
       "    .dataframe tbody tr th {\n",
       "        vertical-align: top;\n",
       "    }\n",
       "\n",
       "    .dataframe thead th {\n",
       "        text-align: right;\n",
       "    }\n",
       "</style>\n",
       "<table border=\"1\" class=\"dataframe\">\n",
       "  <thead>\n",
       "    <tr style=\"text-align: right;\">\n",
       "      <th></th>\n",
       "      <th>Date</th>\n",
       "      <th>Product</th>\n",
       "      <th>Category</th>\n",
       "      <th>Price</th>\n",
       "      <th>Quantity</th>\n",
       "      <th>Customer_Type</th>\n",
       "    </tr>\n",
       "  </thead>\n",
       "  <tbody>\n",
       "    <tr>\n",
       "      <th>2</th>\n",
       "      <td>2024-01-29</td>\n",
       "      <td>Mocha</td>\n",
       "      <td>Beverage</td>\n",
       "      <td>5.32</td>\n",
       "      <td>2</td>\n",
       "      <td>New</td>\n",
       "    </tr>\n",
       "    <tr>\n",
       "      <th>3</th>\n",
       "      <td>2024-02-14</td>\n",
       "      <td>Americano</td>\n",
       "      <td>Beverage</td>\n",
       "      <td>4.25</td>\n",
       "      <td>2</td>\n",
       "      <td>New</td>\n",
       "    </tr>\n",
       "    <tr>\n",
       "      <th>5</th>\n",
       "      <td>2024-02-27</td>\n",
       "      <td>Americano</td>\n",
       "      <td>Beverage</td>\n",
       "      <td>5.48</td>\n",
       "      <td>4</td>\n",
       "      <td>New</td>\n",
       "    </tr>\n",
       "    <tr>\n",
       "      <th>6</th>\n",
       "      <td>2024-02-01</td>\n",
       "      <td>Latte</td>\n",
       "      <td>Beverage</td>\n",
       "      <td>4.39</td>\n",
       "      <td>5</td>\n",
       "      <td>Regular</td>\n",
       "    </tr>\n",
       "    <tr>\n",
       "      <th>7</th>\n",
       "      <td>2024-01-10</td>\n",
       "      <td>Americano</td>\n",
       "      <td>Beverage</td>\n",
       "      <td>5.49</td>\n",
       "      <td>5</td>\n",
       "      <td>New</td>\n",
       "    </tr>\n",
       "  </tbody>\n",
       "</table>\n",
       "</div>"
      ],
      "text/plain": [
       "         Date    Product  Category  Price  Quantity Customer_Type\n",
       "2  2024-01-29      Mocha  Beverage   5.32         2           New\n",
       "3  2024-02-14  Americano  Beverage   4.25         2           New\n",
       "5  2024-02-27  Americano  Beverage   5.48         4           New\n",
       "6  2024-02-01      Latte  Beverage   4.39         5       Regular\n",
       "7  2024-01-10  Americano  Beverage   5.49         5           New"
      ]
     },
     "execution_count": 62,
     "metadata": {},
     "output_type": "execute_result"
    }
   ],
   "source": [
    "# 1 filtering the most expensive item\n",
    "\n",
    "expensive_items = df[df[\"Price\"] > 4.00]\n",
    "expensive_items.head(5)"
   ]
  },
  {
   "cell_type": "code",
   "execution_count": 63,
   "id": "b9df1555-52c8-43af-b6d8-56e047d7f364",
   "metadata": {},
   "outputs": [
    {
     "data": {
      "text/html": [
       "<div>\n",
       "<style scoped>\n",
       "    .dataframe tbody tr th:only-of-type {\n",
       "        vertical-align: middle;\n",
       "    }\n",
       "\n",
       "    .dataframe tbody tr th {\n",
       "        vertical-align: top;\n",
       "    }\n",
       "\n",
       "    .dataframe thead th {\n",
       "        text-align: right;\n",
       "    }\n",
       "</style>\n",
       "<table border=\"1\" class=\"dataframe\">\n",
       "  <thead>\n",
       "    <tr style=\"text-align: right;\">\n",
       "      <th></th>\n",
       "      <th>Date</th>\n",
       "      <th>Product</th>\n",
       "      <th>Category</th>\n",
       "      <th>Price</th>\n",
       "      <th>Quantity</th>\n",
       "      <th>Customer_Type</th>\n",
       "    </tr>\n",
       "  </thead>\n",
       "  <tbody>\n",
       "    <tr>\n",
       "      <th>4</th>\n",
       "      <td>2024-02-21</td>\n",
       "      <td>Mocha</td>\n",
       "      <td>Beverage</td>\n",
       "      <td>3.15</td>\n",
       "      <td>1</td>\n",
       "      <td>Regular</td>\n",
       "    </tr>\n",
       "    <tr>\n",
       "      <th>6</th>\n",
       "      <td>2024-02-01</td>\n",
       "      <td>Latte</td>\n",
       "      <td>Beverage</td>\n",
       "      <td>4.39</td>\n",
       "      <td>5</td>\n",
       "      <td>Regular</td>\n",
       "    </tr>\n",
       "    <tr>\n",
       "      <th>8</th>\n",
       "      <td>2024-01-06</td>\n",
       "      <td>Muffin</td>\n",
       "      <td>Food</td>\n",
       "      <td>3.57</td>\n",
       "      <td>1</td>\n",
       "      <td>Regular</td>\n",
       "    </tr>\n",
       "    <tr>\n",
       "      <th>10</th>\n",
       "      <td>2024-03-15</td>\n",
       "      <td>Croissant</td>\n",
       "      <td>Food</td>\n",
       "      <td>3.69</td>\n",
       "      <td>4</td>\n",
       "      <td>Regular</td>\n",
       "    </tr>\n",
       "    <tr>\n",
       "      <th>11</th>\n",
       "      <td>2024-02-18</td>\n",
       "      <td>Bagel</td>\n",
       "      <td>Food</td>\n",
       "      <td>3.92</td>\n",
       "      <td>4</td>\n",
       "      <td>Regular</td>\n",
       "    </tr>\n",
       "  </tbody>\n",
       "</table>\n",
       "</div>"
      ],
      "text/plain": [
       "          Date    Product  Category  Price  Quantity Customer_Type\n",
       "4   2024-02-21      Mocha  Beverage   3.15         1       Regular\n",
       "6   2024-02-01      Latte  Beverage   4.39         5       Regular\n",
       "8   2024-01-06     Muffin      Food   3.57         1       Regular\n",
       "10  2024-03-15  Croissant      Food   3.69         4       Regular\n",
       "11  2024-02-18      Bagel      Food   3.92         4       Regular"
      ]
     },
     "execution_count": 63,
     "metadata": {},
     "output_type": "execute_result"
    }
   ],
   "source": [
    "# show details where the customer type is regular\n",
    "regular_customer = df[df[\"Customer_Type\"] == \"Regular\" ]\n",
    "regular_customer.head(5)"
   ]
  },
  {
   "cell_type": "code",
   "execution_count": null,
   "id": "7ee3b23e-8a93-489d-8116-c2b2943e2a09",
   "metadata": {},
   "outputs": [],
   "source": []
  }
 ],
 "metadata": {
  "kernelspec": {
   "display_name": "Python 3 (ipykernel)",
   "language": "python",
   "name": "python3"
  },
  "language_info": {
   "codemirror_mode": {
    "name": "ipython",
    "version": 3
   },
   "file_extension": ".py",
   "mimetype": "text/x-python",
   "name": "python",
   "nbconvert_exporter": "python",
   "pygments_lexer": "ipython3",
   "version": "3.13.5"
  }
 },
 "nbformat": 4,
 "nbformat_minor": 5
}
