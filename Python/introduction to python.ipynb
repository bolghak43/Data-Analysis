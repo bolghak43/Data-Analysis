{
 "cells": [
  {
   "cell_type": "markdown",
   "id": "1b893b4e-f7c6-415c-9918-a12c0d1a9f2e",
   "metadata": {},
   "source": [
    "# Introduction to Python for data analysis\n",
    "This is about learning python for data analysis journey."
   ]
  },
  {
   "cell_type": "code",
   "execution_count": 5,
   "id": "83a4ab8f-cd4a-45b3-94c1-4825940811d2",
   "metadata": {},
   "outputs": [
    {
     "name": "stdout",
     "output_type": "stream",
     "text": [
      "Hello! World\n",
      "My name is Bol Ghak\n",
      "I am taking data analysis course at AreL: Action for Refugee Life.\n"
     ]
    }
   ],
   "source": [
    "# this is just a comment \n",
    "# to print hellow world\n",
    "\n",
    "print(\"Hello! World\")\n",
    "print(\"My name is Bol Ghak\")\n",
    "print(\"I am taking data analysis course at AreL: Action for Refugee Life.\") "
   ]
  },
  {
   "cell_type": "markdown",
   "id": "746ebe2b-440f-4170-b1ff-254fee2ba3b0",
   "metadata": {},
   "source": [
    "## Excutive sale analysis\n",
    "\n",
    "### importing libraries\n",
    "\n"
   ]
  },
  {
   "cell_type": "markdown",
   "id": "a1227377-fa4c-43e8-9b71-e5dc48e43084",
   "metadata": {},
   "source": [
    "### 1. Loading the dataset"
   ]
  },
  {
   "cell_type": "markdown",
   "id": "4f6e8b5f-7882-4cdb-8606-e74cbdb51984",
   "metadata": {},
   "source": [
    "## Getting an input from user"
   ]
  },
  {
   "cell_type": "code",
   "execution_count": 7,
   "id": "23543f97-33e0-4ffe-8212-1bf79f008185",
   "metadata": {},
   "outputs": [
    {
     "name": "stdin",
     "output_type": "stream",
     "text": [
      "What is your name ?:  Bol\n"
     ]
    },
    {
     "name": "stdout",
     "output_type": "stream",
     "text": [
      "My name is:  Bol\n"
     ]
    },
    {
     "name": "stdin",
     "output_type": "stream",
     "text": [
      "School name:  Arel\n"
     ]
    },
    {
     "name": "stdout",
     "output_type": "stream",
     "text": [
      "My scool name is:  Arel\n"
     ]
    }
   ],
   "source": [
    "name =  input(\"What is your name ?: \")\n",
    "print(\"My name is: \", name)\n",
    "\n",
    "school_name = input(\"School name: \")\n",
    "print(\"My scool name is: \", school_name)"
   ]
  },
  {
   "cell_type": "code",
   "execution_count": 9,
   "id": "e1008aa4-3550-40f9-9431-466d4c3cf0bf",
   "metadata": {},
   "outputs": [
    {
     "name": "stdout",
     "output_type": "stream",
     "text": [
      "Hello! Bol Ghak you are 25 year old. Welcom to Data Analytics course\n"
     ]
    }
   ],
   "source": [
    "# print statement\n",
    "# input statement\n",
    "\n",
    "# declaring variables\n",
    "\n",
    "name = \"Bol Ghak\"\n",
    "age = 25\n",
    "gender = \"Male\"\n",
    "course = \"Data Analytics course\"\n",
    "\n",
    "\n",
    "# print the outputs\n",
    "\n",
    "print(\"Hello!\", name, \"you are\", age, \"year old. Welcom to\", course)\n"
   ]
  },
  {
   "cell_type": "code",
   "execution_count": null,
   "id": "4fb36ed3-31f6-4d22-b682-a6980cf2f045",
   "metadata": {},
   "outputs": [],
   "source": []
  },
  {
   "cell_type": "code",
   "execution_count": 10,
   "id": "bd7df428-a6ef-465d-aed1-7263492556ee",
   "metadata": {},
   "outputs": [],
   "source": [
    "# datatype\n",
    "# string is a text\n",
    "\n",
    "name = \"Bol\"\n",
    "age = 25\n",
    "\n",
    "# Interger -- is the whole number\n",
    "\n",
    "age = 25\n",
    "number_of_page = 300\n",
    "\n",
    "\n",
    "# float -- with decimal points\n",
    "\n",
    "bank_balance = 5000.45\n",
    "mpesa_balance = 34.5\n",
    "height = 1.9\n",
    "weight = 67.4\n",
    "\n",
    "\n"
   ]
  },
  {
   "cell_type": "code",
   "execution_count": null,
   "id": "ac294e24-432b-4b07-b2a5-773f877d8b8d",
   "metadata": {},
   "outputs": [],
   "source": []
  }
 ],
 "metadata": {
  "kernelspec": {
   "display_name": "Python 3 (ipykernel)",
   "language": "python",
   "name": "python3"
  },
  "language_info": {
   "codemirror_mode": {
    "name": "ipython",
    "version": 3
   },
   "file_extension": ".py",
   "mimetype": "text/x-python",
   "name": "python",
   "nbconvert_exporter": "python",
   "pygments_lexer": "ipython3",
   "version": "3.13.5"
  }
 },
 "nbformat": 4,
 "nbformat_minor": 5
}
