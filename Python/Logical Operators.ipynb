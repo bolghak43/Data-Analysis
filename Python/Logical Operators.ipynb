{
 "cells": [
  {
   "cell_type": "markdown",
   "id": "9ff7a1d6-2c36-45c3-be2c-d40aec17efb2",
   "metadata": {},
   "source": [
    "# Logical Operators\n",
    "\n",
    "Using python code to perform calculation, compare values\n",
    "\n",
    "\n",
    "\n",
    "\n",
    "# Basic Arithmetic operators"
   ]
  },
  {
   "cell_type": "code",
   "execution_count": 5,
   "id": "76cb4c2c-2323-4f83-bc97-861908aab867",
   "metadata": {},
   "outputs": [
    {
     "name": "stdout",
     "output_type": "stream",
     "text": [
      "My total monthly expenses is: KES 11500\n",
      "My balance is: KES 48500\n"
     ]
    }
   ],
   "source": [
    "# Calculating my total monthly expenses \n",
    "\n",
    "food = 5000\n",
    "rent =  2500\n",
    "water = 1500\n",
    "internet = 1000\n",
    "stima = 1500\n",
    "\n",
    "\n",
    "total_monthly_expenses = food + rent + water + internet + stima\n",
    "\n",
    "print(\"My total monthly expenses is: KES\", total_monthly_expenses)\n",
    "\n",
    "\n",
    "\n",
    "# Substracting my expenses from my monthly salary\n",
    "\n",
    "monthly_salary = 60000\n",
    "\n",
    "balance = monthly_salary - total_monthly_expenses\n",
    "\n",
    "print(\"My balance is: KES\", balance)\n",
    "\n"
   ]
  },
  {
   "cell_type": "markdown",
   "id": "4e728fc2-b2fa-428a-9d0e-6a884a318ec7",
   "metadata": {},
   "source": [
    "# Special math operation"
   ]
  },
  {
   "cell_type": "code",
   "execution_count": 16,
   "id": "33c3aa43-559a-47cf-8b29-6e90f2834658",
   "metadata": {},
   "outputs": [
    {
     "name": "stdout",
     "output_type": "stream",
     "text": [
      "Each student get: 1.7142857142857142 pens\n",
      "We need 1 chapatis\n",
      "Plus we need 5 more chapatis (so get one more chapatis)\n"
     ]
    }
   ],
   "source": [
    "total_pen = 12\n",
    "\n",
    "total_student = 7\n",
    "\n",
    "total_pens_per_student = total_pen//total_student\n",
    "\n",
    "print(f\"Each student get: {total_pen_per_student} pens\")\n",
    "\n",
    "\n",
    "# planning for student trip in a hotel\n",
    "\n",
    "students = 30\n",
    "chapatis = 25\n",
    "\n",
    "# how many chapatis do we need \n",
    "chapatis_needed = students//chapatis\n",
    "\n",
    "extra_chapatis = students%chapatis\n",
    "\n",
    "print(f\"We need {chapatis_needed} chapatis\")\n",
    "if extra_chapatis > 0:\n",
    "   print(f\"Plus we need {extra_chapatis} more chapatis (so get one more chapatis)\")\n"
   ]
  },
  {
   "cell_type": "markdown",
   "id": "7714ff39-c74b-4581-b052-e7bce50f46b7",
   "metadata": {},
   "source": [
    "# Comparison Operators\n",
    "\n",
    "These operators help you compare things and get True/False answers:"
   ]
  },
  {
   "cell_type": "code",
   "execution_count": 14,
   "id": "b84b8fbe-b38d-4046-bdb6-1540f5b1231d",
   "metadata": {},
   "outputs": [
    {
     "name": "stdout",
     "output_type": "stream",
     "text": [
      "Are we the same age with my father? False\n",
      "Are we the different age with my father? True\n"
     ]
    }
   ],
   "source": [
    "my_age = 25\n",
    "my_father_age = 50\n",
    "\n",
    "same_age = my_age == my_father_age # this will return false\n",
    "\n",
    "different_age = my_age != my_father_age\n",
    "\n",
    "print(\"Are we the same age with my father?\", same_age)\n",
    "print(\"Are we the different age with my father?\", different_age)\n"
   ]
  },
  {
   "cell_type": "code",
   "execution_count": 1,
   "id": "f68e0392-a6ed-46b9-b6e8-9f6f972f00bb",
   "metadata": {},
   "outputs": [
    {
     "name": "stdout",
     "output_type": "stream",
     "text": [
      "You can drink\n"
     ]
    }
   ],
   "source": [
    "age = 23\n",
    "if age >= 21: # if your age is equal to 21 or greater than that\n",
    "\n",
    "   print(\"You can drink\") # then print you can drink in bars or in party\n"
   ]
  },
  {
   "cell_type": "markdown",
   "id": "8f2ec3eb-42ca-46aa-a086-7554d6a74cfa",
   "metadata": {},
   "source": [
    "# Making Decisions with if/elif/else\n",
    "\n",
    "This is where your programs become smart! Just like humans make decisions based on conditions, you\n",
    "can teach your program to make choices."
   ]
  },
  {
   "cell_type": "markdown",
   "id": "30a617c9-f7cc-4076-bd36-57e478c87413",
   "metadata": {},
   "source": [
    "# Simple if Statements"
   ]
  },
  {
   "cell_type": "code",
   "execution_count": 7,
   "id": "048cb833-cd7b-4543-8d79-5412b95a6fca",
   "metadata": {},
   "outputs": [
    {
     "name": "stdout",
     "output_type": "stream",
     "text": [
      "It is too hot!\n"
     ]
    }
   ],
   "source": [
    "temperature = 32\n",
    "\n",
    "if temperature >= 25:\n",
    "    print(\"It is too hot!\")\n"
   ]
  },
  {
   "cell_type": "markdown",
   "id": "8a3f724f-8ee8-4182-bc97-5df8068698cf",
   "metadata": {},
   "source": [
    "# if-else Statements \n",
    "\n",
    "Choose between two options"
   ]
  },
  {
   "cell_type": "code",
   "execution_count": 8,
   "id": "2f6ca8e0-33a7-4e4a-9153-4c9c133c1da8",
   "metadata": {},
   "outputs": [
    {
     "name": "stdout",
     "output_type": "stream",
     "text": [
      "You are eligible to vote\n"
     ]
    }
   ],
   "source": [
    "age = 25 \n",
    "\n",
    "if age >= 18:\n",
    "    print(\"You are eligible to vote\")\n",
    "\n",
    "else:\n",
    "    print(\"You cannot vote\")"
   ]
  },
  {
   "cell_type": "markdown",
   "id": "29578723-b2a7-4091-99ff-55c935f75687",
   "metadata": {},
   "source": [
    "# Multiple Conditions with elif (Choose from many options)\n",
    "\n",
    "elif is short for \"else if\" - it's like asking multiple questions in order:"
   ]
  },
  {
   "cell_type": "code",
   "execution_count": 9,
   "id": "f8fd0644-8634-4559-9f54-e8c4ad58fca0",
   "metadata": {},
   "outputs": [
    {
     "name": "stdout",
     "output_type": "stream",
     "text": [
      "Your grade is C\n"
     ]
    }
   ],
   "source": [
    "# creating the grading system for student performance\n",
    "\n",
    "marks = 65\n",
    "\n",
    "if marks >= 80:\n",
    "    print(\"Your grade is A\")\n",
    "\n",
    "elif marks >= 70 and marks <= 79:\n",
    "    print(\"Your grade is B\")\n",
    "\n",
    "\n",
    "elif marks >= 60 and marks <= 69:\n",
    "    print(\"Your grade is C\")\n",
    "\n",
    "elif marks >= 50 and marks <= 59:\n",
    "    print(\"Your grade is D\")\n",
    "\n",
    "else:\n",
    "    print(\"You failed!\")"
   ]
  },
  {
   "cell_type": "code",
   "execution_count": null,
   "id": "f94f4b4e-e713-488e-8e8d-21ada6c64d4c",
   "metadata": {},
   "outputs": [],
   "source": []
  }
 ],
 "metadata": {
  "kernelspec": {
   "display_name": "Python 3 (ipykernel)",
   "language": "python",
   "name": "python3"
  },
  "language_info": {
   "codemirror_mode": {
    "name": "ipython",
    "version": 3
   },
   "file_extension": ".py",
   "mimetype": "text/x-python",
   "name": "python",
   "nbconvert_exporter": "python",
   "pygments_lexer": "ipython3",
   "version": "3.13.5"
  }
 },
 "nbformat": 4,
 "nbformat_minor": 5
}
