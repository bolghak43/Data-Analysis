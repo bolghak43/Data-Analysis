{
 "cells": [
  {
   "cell_type": "markdown",
   "id": "0873c413-4ed2-41d1-b6ef-b569abb08d82",
   "metadata": {},
   "source": [
    "# Getting started with python for data analysis"
   ]
  },
  {
   "cell_type": "markdown",
   "id": "b5791416-9cc4-46ea-9c88-f5743bbd27bd",
   "metadata": {},
   "source": [
    "### Real-World Use Case: Small Supermarket Analysis"
   ]
  },
  {
   "cell_type": "code",
   "execution_count": 4,
   "id": "b423f98a-360f-4325-a7c1-3d736823b6ff",
   "metadata": {},
   "outputs": [
    {
     "name": "stdout",
     "output_type": "stream",
     "text": [
      "All libraries imported successfully\n"
     ]
    }
   ],
   "source": [
    "# step 1 : Importing libraries\n",
    "\n",
    "import pandas as pd    # it will load and organize the data\n",
    "import numpy as np # Will calculate averages, totals, and trends\n",
    "import matplotlib.pyplot as plt # Will create charts showing sales over time\n",
    "import seaborn as sns # Will make beautiful visualizations of customer patterns\n",
    "\n",
    "# print all libraries \n",
    "\n",
    "print(\"All libraries imported successfully\")"
   ]
  },
  {
   "cell_type": "code",
   "execution_count": 5,
   "id": "9088f67f-baf0-4c14-a3bf-ec1e84b7db2f",
   "metadata": {},
   "outputs": [
    {
     "name": "stdout",
     "output_type": "stream",
     "text": [
      "Pandas version: 2.2.3\n",
      "Numpy version: 2.1.3\n",
      "Matplotlib and Seaborn are ready for visualization!\n"
     ]
    }
   ],
   "source": [
    "print(f\"Pandas version: {pd.__version__}\")\n",
    "print(f\"Numpy version: {np.__version__}\")\n",
    "print(\"Matplotlib and Seaborn are ready for visualization!\")"
   ]
  },
  {
   "cell_type": "code",
   "execution_count": 10,
   "id": "182a7634-cbd2-4031-9c0a-f0275b165f9e",
   "metadata": {},
   "outputs": [
    {
     "name": "stdout",
     "output_type": "stream",
     "text": [
      "\n",
      " Sample supermarket data:\n",
      "    Products  Sale  Profit\n",
      "0      Apple   150      60\n",
      "1    Mangoes   234      90\n",
      "2    bananas   563      30\n",
      "3     grapes   234      50\n",
      "4    Oranges   165      20\n",
      "5  Blueberry   234      45\n",
      "\n",
      "Everything is working!\n"
     ]
    }
   ],
   "source": [
    "import pandas as pd\n",
    "\n",
    "sample_data = {\n",
    "    \"Products\" : [\"Apple\", \"Mangoes\", \"bananas\", \"grapes\", \"Oranges\", \"Blueberry\"],  # 6 items\n",
    "\n",
    "    \"Sale\" : [150, 234, 563, 234, 165, 234],  # 6 items\n",
    "\n",
    "    \"Profit\" : [60, 90, 30, 50, 20, 45]  # 6 items\n",
    "}\n",
    "\n",
    "df = pd.DataFrame(sample_data)\n",
    "print(\"\\n Sample supermarket data:\")\n",
    "print(df)\n",
    "\n",
    "print(\"\\nEverything is working!\")\n",
    "\n"
   ]
  },
  {
   "cell_type": "code",
   "execution_count": null,
   "id": "ff5c7907-ca13-4545-9895-462227365df0",
   "metadata": {},
   "outputs": [],
   "source": []
  },
  {
   "cell_type": "markdown",
   "id": "7c05c830-f2be-4a69-a550-56b5c68102a1",
   "metadata": {},
   "source": [
    "# Interactive Tasks\n",
    "\n",
    "#### Task 1: Import Practice\n",
    "\n",
    "Try importing the libraries yourself. Copy this code and fill in the missing parts:"
   ]
  },
  {
   "cell_type": "code",
   "execution_count": 12,
   "id": "119a0b46-8544-483f-9fab-d8361a36a2b2",
   "metadata": {},
   "outputs": [
    {
     "name": "stdout",
     "output_type": "stream",
     "text": [
      "Pandas version: 2.2.3\n",
      "Numpy version: 2.1.3\n",
      "Matplotlib and Seaborn are ready for visualization!\n",
      "All libraries are successfully tested and imported\n"
     ]
    }
   ],
   "source": [
    "# importing pandas with alias\n",
    "# importing numpy with alias\n",
    "# importing pandas with alias\n",
    "# importing pandas with alias\n",
    "\n",
    "import pandas as pd\n",
    "import numpy as np\n",
    "import matplotlib.pyplot as plt\n",
    "import seaborn as sns\n",
    "\n",
    "\n",
    "# test and print your imports\n",
    "print(f\"Pandas version: {pd.__version__}\")\n",
    "print(f\"Numpy version: {np.__version__}\")\n",
    "print(\"Matplotlib and Seaborn are ready for visualization!\")\n",
    "print(f\"All libraries are successfully tested and imported\")"
   ]
  },
  {
   "cell_type": "markdown",
   "id": "d2b38f2a-1403-4889-a021-33771132b935",
   "metadata": {},
   "source": [
    "#### Task 2: Library Explanation\n",
    "\n",
    "In your own words, explain what each library does:"
   ]
  },
  {
   "cell_type": "markdown",
   "id": "46203d88-a992-47b4-8564-6054619d5fa1",
   "metadata": {},
   "source": [
    "#### 1. pandas is like... \n",
    "\n",
    "Pandas is library being imported in python to help data analyst to load dataset from different sources into python and do some data manipulations\n",
    "\n",
    "#### 2. numpy is like... \n",
    "\n",
    "Numpy is library that help user or data analyst when imported, to do some mathematical & statistical calculations, and working with list of numbers;\n",
    "that's an arrays.\n",
    "\n",
    "#### 3. matplotlib is like... \n",
    "\n",
    "matplotlib help data analyst to create visual arts presentations like different types charts to showcase the data storytelling or to tell the stories of the data\n",
    "\n",
    "#### 4. seaborn is like... \n",
    "\n",
    "Seaborn help data analyst to some complex charts with less number line of codes, and also to focus on building relationship model between different columns or variables.\n",
    "\n"
   ]
  },
  {
   "cell_type": "code",
   "execution_count": null,
   "id": "dbf978de-e634-48fc-9e08-43960d434ddd",
   "metadata": {},
   "outputs": [],
   "source": []
  }
 ],
 "metadata": {
  "kernelspec": {
   "display_name": "Python 3 (ipykernel)",
   "language": "python",
   "name": "python3"
  },
  "language_info": {
   "codemirror_mode": {
    "name": "ipython",
    "version": 3
   },
   "file_extension": ".py",
   "mimetype": "text/x-python",
   "name": "python",
   "nbconvert_exporter": "python",
   "pygments_lexer": "ipython3",
   "version": "3.13.5"
  }
 },
 "nbformat": 4,
 "nbformat_minor": 5
}
