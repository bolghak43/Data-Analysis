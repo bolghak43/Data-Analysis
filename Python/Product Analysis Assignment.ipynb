{
 "cells": [
  {
   "cell_type": "markdown",
   "id": "e14312b0-2a63-4111-aeca-3384e52979d5",
   "metadata": {},
   "source": [
    "# Product Analysis Assignment\n",
    "You work for \"TechGadget Store\" and need to analyze their product inventory. load TechGadget datasets and Use it to answer the following business questions.\n"
   ]
  },
  {
   "cell_type": "code",
   "execution_count": 1,
   "id": "7e22bac8-5be2-4ae2-868b-494d85745555",
   "metadata": {},
   "outputs": [
    {
     "name": "stdout",
     "output_type": "stream",
     "text": [
      "Pandas is successfully imported\n"
     ]
    }
   ],
   "source": [
    "# First of all import the pandas library\n",
    "\n",
    "import pandas as pd\n",
    "print(\"Pandas is successfully imported\")\n"
   ]
  },
  {
   "cell_type": "code",
   "execution_count": 6,
   "id": "10780e0e-e5e0-4a90-8e03-bbfc8802622b",
   "metadata": {},
   "outputs": [
    {
     "name": "stdout",
     "output_type": "stream",
     "text": [
      "Techgadget_products is loaded successfully\n"
     ]
    }
   ],
   "source": [
    "# Then load the datasets\n",
    "\n",
    "techgadget_products = pd.read_csv(r\"datasets\\techgadget_products.csv\")\n",
    "print(\"Techgadget_products is loaded successfully\")"
   ]
  },
  {
   "cell_type": "markdown",
   "id": "d0e7563a-7d95-4830-b40c-660e68c82dac",
   "metadata": {},
   "source": [
    "### Question 1: Dataset Overview"
   ]
  },
  {
   "cell_type": "code",
   "execution_count": 8,
   "id": "2ea353aa-168a-4a43-bf6a-08f798a69925",
   "metadata": {},
   "outputs": [
    {
     "name": "stdout",
     "output_type": "stream",
     "text": [
      "datasets shade\n"
     ]
    },
    {
     "data": {
      "text/plain": [
       "(30, 6)"
      ]
     },
     "execution_count": 8,
     "metadata": {},
     "output_type": "execute_result"
    }
   ],
   "source": [
    "# a) What is the shape of the dataset?\n",
    "\n",
    "print(\"datasets shade\")\n",
    "techgadget_products.shape"
   ]
  },
  {
   "cell_type": "code",
   "execution_count": 18,
   "id": "364afc6f-1007-483b-b9ad-e7d9f11e33ff",
   "metadata": {},
   "outputs": [
    {
     "data": {
      "text/html": [
       "<div>\n",
       "<style scoped>\n",
       "    .dataframe tbody tr th:only-of-type {\n",
       "        vertical-align: middle;\n",
       "    }\n",
       "\n",
       "    .dataframe tbody tr th {\n",
       "        vertical-align: top;\n",
       "    }\n",
       "\n",
       "    .dataframe thead th {\n",
       "        text-align: right;\n",
       "    }\n",
       "</style>\n",
       "<table border=\"1\" class=\"dataframe\">\n",
       "  <thead>\n",
       "    <tr style=\"text-align: right;\">\n",
       "      <th></th>\n",
       "      <th>Price</th>\n",
       "      <th>Stock_Quantity</th>\n",
       "    </tr>\n",
       "  </thead>\n",
       "  <tbody>\n",
       "    <tr>\n",
       "      <th>count</th>\n",
       "      <td>30.000000</td>\n",
       "      <td>30.000000</td>\n",
       "    </tr>\n",
       "    <tr>\n",
       "      <th>mean</th>\n",
       "      <td>57.091667</td>\n",
       "      <td>117.166667</td>\n",
       "    </tr>\n",
       "    <tr>\n",
       "      <th>std</th>\n",
       "      <td>30.070292</td>\n",
       "      <td>71.722686</td>\n",
       "    </tr>\n",
       "    <tr>\n",
       "      <th>min</th>\n",
       "      <td>10.670000</td>\n",
       "      <td>11.000000</td>\n",
       "    </tr>\n",
       "    <tr>\n",
       "      <th>25%</th>\n",
       "      <td>29.685000</td>\n",
       "      <td>56.000000</td>\n",
       "    </tr>\n",
       "    <tr>\n",
       "      <th>50%</th>\n",
       "      <td>54.695000</td>\n",
       "      <td>116.500000</td>\n",
       "    </tr>\n",
       "    <tr>\n",
       "      <th>75%</th>\n",
       "      <td>84.535000</td>\n",
       "      <td>170.500000</td>\n",
       "    </tr>\n",
       "    <tr>\n",
       "      <th>max</th>\n",
       "      <td>95.900000</td>\n",
       "      <td>236.000000</td>\n",
       "    </tr>\n",
       "  </tbody>\n",
       "</table>\n",
       "</div>"
      ],
      "text/plain": [
       "           Price  Stock_Quantity\n",
       "count  30.000000       30.000000\n",
       "mean   57.091667      117.166667\n",
       "std    30.070292       71.722686\n",
       "min    10.670000       11.000000\n",
       "25%    29.685000       56.000000\n",
       "50%    54.695000      116.500000\n",
       "75%    84.535000      170.500000\n",
       "max    95.900000      236.000000"
      ]
     },
     "execution_count": 18,
     "metadata": {},
     "output_type": "execute_result"
    }
   ],
   "source": [
    "techgadget_products.describe()"
   ]
  },
  {
   "cell_type": "code",
   "execution_count": 10,
   "id": "8b4ed2e4-b4e8-45f4-aad1-ee44c3e271c1",
   "metadata": {},
   "outputs": [
    {
     "name": "stdout",
     "output_type": "stream",
     "text": [
      "First 5 rows\n"
     ]
    },
    {
     "data": {
      "text/html": [
       "<div>\n",
       "<style scoped>\n",
       "    .dataframe tbody tr th:only-of-type {\n",
       "        vertical-align: middle;\n",
       "    }\n",
       "\n",
       "    .dataframe tbody tr th {\n",
       "        vertical-align: top;\n",
       "    }\n",
       "\n",
       "    .dataframe thead th {\n",
       "        text-align: right;\n",
       "    }\n",
       "</style>\n",
       "<table border=\"1\" class=\"dataframe\">\n",
       "  <thead>\n",
       "    <tr style=\"text-align: right;\">\n",
       "      <th></th>\n",
       "      <th>Product_ID</th>\n",
       "      <th>Product_Name</th>\n",
       "      <th>Category</th>\n",
       "      <th>Price</th>\n",
       "      <th>Stock_Quantity</th>\n",
       "      <th>Supplier</th>\n",
       "    </tr>\n",
       "  </thead>\n",
       "  <tbody>\n",
       "    <tr>\n",
       "      <th>0</th>\n",
       "      <td>TG001</td>\n",
       "      <td>Gadget 1</td>\n",
       "      <td>Charging</td>\n",
       "      <td>10.67</td>\n",
       "      <td>132</td>\n",
       "      <td>ChargeFast</td>\n",
       "    </tr>\n",
       "    <tr>\n",
       "      <th>1</th>\n",
       "      <td>TG002</td>\n",
       "      <td>Gadget 2</td>\n",
       "      <td>Charging</td>\n",
       "      <td>65.46</td>\n",
       "      <td>234</td>\n",
       "      <td>TechCorp</td>\n",
       "    </tr>\n",
       "    <tr>\n",
       "      <th>2</th>\n",
       "      <td>TG003</td>\n",
       "      <td>Gadget 3</td>\n",
       "      <td>Accessories</td>\n",
       "      <td>44.85</td>\n",
       "      <td>11</td>\n",
       "      <td>DeskMate</td>\n",
       "    </tr>\n",
       "    <tr>\n",
       "      <th>3</th>\n",
       "      <td>TG004</td>\n",
       "      <td>Gadget 4</td>\n",
       "      <td>Charging</td>\n",
       "      <td>92.02</td>\n",
       "      <td>42</td>\n",
       "      <td>PowerPlus</td>\n",
       "    </tr>\n",
       "    <tr>\n",
       "      <th>4</th>\n",
       "      <td>TG005</td>\n",
       "      <td>Gadget 5</td>\n",
       "      <td>Audio</td>\n",
       "      <td>49.79</td>\n",
       "      <td>12</td>\n",
       "      <td>SoundMax</td>\n",
       "    </tr>\n",
       "  </tbody>\n",
       "</table>\n",
       "</div>"
      ],
      "text/plain": [
       "  Product_ID Product_Name     Category  Price  Stock_Quantity    Supplier\n",
       "0      TG001     Gadget 1     Charging  10.67             132  ChargeFast\n",
       "1      TG002     Gadget 2     Charging  65.46             234    TechCorp\n",
       "2      TG003     Gadget 3  Accessories  44.85              11    DeskMate\n",
       "3      TG004     Gadget 4     Charging  92.02              42   PowerPlus\n",
       "4      TG005     Gadget 5        Audio  49.79              12    SoundMax"
      ]
     },
     "execution_count": 10,
     "metadata": {},
     "output_type": "execute_result"
    }
   ],
   "source": [
    "# b) Display the first 5 products\n",
    "\n",
    "print(\"First 5 rows\")\n",
    "techgadget_products.head(5)\n"
   ]
  },
  {
   "cell_type": "code",
   "execution_count": 17,
   "id": "d6054fd1-f770-48b5-8f18-f002f54eb8f7",
   "metadata": {},
   "outputs": [
    {
     "name": "stdout",
     "output_type": "stream",
     "text": [
      "Unique categories\n",
      "['Charging' 'Accessories' 'Audio' 'Cables' 'Protection']\n"
     ]
    }
   ],
   "source": [
    "# c) What are all the unique categories?\n",
    "\n",
    "print(\"Unique categories\")\n",
    "\n",
    "unique_categories = techgadget_products[\"Category\"].unique() \n",
    "print(unique_categories)\n",
    "\n"
   ]
  },
  {
   "cell_type": "markdown",
   "id": "a169f840-33d6-442b-8b56-2bf20cfda0d8",
   "metadata": {},
   "source": [
    "### Question 2: Price Analysis"
   ]
  },
  {
   "cell_type": "code",
   "execution_count": 22,
   "id": "af3cc387-fa5e-492f-b428-43820d9abc0e",
   "metadata": {},
   "outputs": [
    {
     "data": {
      "text/html": [
       "<div>\n",
       "<style scoped>\n",
       "    .dataframe tbody tr th:only-of-type {\n",
       "        vertical-align: middle;\n",
       "    }\n",
       "\n",
       "    .dataframe tbody tr th {\n",
       "        vertical-align: top;\n",
       "    }\n",
       "\n",
       "    .dataframe thead th {\n",
       "        text-align: right;\n",
       "    }\n",
       "</style>\n",
       "<table border=\"1\" class=\"dataframe\">\n",
       "  <thead>\n",
       "    <tr style=\"text-align: right;\">\n",
       "      <th></th>\n",
       "      <th>Product_ID</th>\n",
       "      <th>Product_Name</th>\n",
       "      <th>Category</th>\n",
       "      <th>Price</th>\n",
       "      <th>Stock_Quantity</th>\n",
       "      <th>Supplier</th>\n",
       "    </tr>\n",
       "  </thead>\n",
       "  <tbody>\n",
       "    <tr>\n",
       "      <th>3</th>\n",
       "      <td>TG004</td>\n",
       "      <td>Gadget 4</td>\n",
       "      <td>Charging</td>\n",
       "      <td>92.02</td>\n",
       "      <td>42</td>\n",
       "      <td>PowerPlus</td>\n",
       "    </tr>\n",
       "    <tr>\n",
       "      <th>7</th>\n",
       "      <td>TG008</td>\n",
       "      <td>Gadget 8</td>\n",
       "      <td>Audio</td>\n",
       "      <td>82.83</td>\n",
       "      <td>195</td>\n",
       "      <td>ChargeFast</td>\n",
       "    </tr>\n",
       "    <tr>\n",
       "      <th>8</th>\n",
       "      <td>TG009</td>\n",
       "      <td>Gadget 9</td>\n",
       "      <td>Audio</td>\n",
       "      <td>95.23</td>\n",
       "      <td>98</td>\n",
       "      <td>ChargeFast</td>\n",
       "    </tr>\n",
       "  </tbody>\n",
       "</table>\n",
       "</div>"
      ],
      "text/plain": [
       "  Product_ID Product_Name  Category  Price  Stock_Quantity    Supplier\n",
       "3      TG004     Gadget 4  Charging  92.02              42   PowerPlus\n",
       "7      TG008     Gadget 8     Audio  82.83             195  ChargeFast\n",
       "8      TG009     Gadget 9     Audio  95.23              98  ChargeFast"
      ]
     },
     "execution_count": 22,
     "metadata": {},
     "output_type": "execute_result"
    }
   ],
   "source": [
    "# a) filtering the top 3 most expensive products\n",
    "\n",
    "Top_3_expensive_products = techgadget_products[techgadget_products[\"Price\"] > 80]\n",
    "Top_3_expensive_products.head(3)\n"
   ]
  },
  {
   "cell_type": "code",
   "execution_count": 25,
   "id": "ff6d3a86-4389-4b00-8609-d438f9bb312f",
   "metadata": {},
   "outputs": [
    {
     "name": "stdout",
     "output_type": "stream",
     "text": [
      "   Product_ID Product_Name     Category  Price  Stock_Quantity    Supplier\n",
      "1       TG002     Gadget 2     Charging  65.46             234    TechCorp\n",
      "3       TG004     Gadget 4     Charging  92.02              42   PowerPlus\n",
      "6       TG007     Gadget 7   Protection  57.67              54    SoundMax\n",
      "7       TG008     Gadget 8        Audio  82.83             195  ChargeFast\n",
      "8       TG009     Gadget 9        Audio  95.23              98  ChargeFast\n",
      "9       TG010    Gadget 10       Cables  95.69             148    SoundMax\n",
      "12      TG013    Gadget 13     Charging  51.72             228    DeskMate\n",
      "14      TG015    Gadget 15     Charging  63.93              21    GuardPro\n",
      "15      TG016    Gadget 16       Cables  83.29              75    DeskMate\n",
      "20      TG021    Gadget 21  Accessories  94.77             206   PowerPlus\n",
      "21      TG022    Gadget 22     Charging  92.27             129   PowerPlus\n",
      "22      TG023    Gadget 23   Protection  71.17             171  ChargeFast\n",
      "26      TG027    Gadget 27  Accessories  95.90              30    DeskMate\n",
      "27      TG028    Gadget 28        Audio  82.88             204    SoundMax\n",
      "28      TG029    Gadget 29  Accessories  94.85             236   PowerPlus\n",
      "29      TG030    Gadget 30     Charging  84.95              74    SoundMax\n"
     ]
    }
   ],
   "source": [
    "# b) Filtering all products priced above $50\n",
    "\n",
    "Product_Name_and_Price = techgadget_products[techgadget_products[ \"Price\"] > 50]\n",
    "\n",
    "print(Product_Name_and_Price)\n",
    "\n"
   ]
  },
  {
   "cell_type": "code",
   "execution_count": 27,
   "id": "67676bb0-e4ff-47ca-b58c-de1760af0c3d",
   "metadata": {},
   "outputs": [
    {
     "name": "stdout",
     "output_type": "stream",
     "text": [
      "The average price of all products is: \n"
     ]
    },
    {
     "data": {
      "text/plain": [
       "np.float64(57.091666666666676)"
      ]
     },
     "execution_count": 27,
     "metadata": {},
     "output_type": "execute_result"
    }
   ],
   "source": [
    "# c) The average price of all products is:\n",
    "\n",
    "average_price = techgadget_products[\"Price\"].mean()\n",
    "print(\"The average price of all products is: \")\n",
    "average_price\n"
   ]
  },
  {
   "cell_type": "markdown",
   "id": "dfa0d092-c837-48cd-a7e6-2f56ce495023",
   "metadata": {},
   "source": [
    "### Question 3: Inventory Management"
   ]
  },
  {
   "cell_type": "code",
   "execution_count": 33,
   "id": "67a15dbd-e1fc-4170-9635-b28a35b0e124",
   "metadata": {},
   "outputs": [
    {
     "name": "stdout",
     "output_type": "stream",
     "text": [
      "Products have less than 50 items\n"
     ]
    },
    {
     "data": {
      "text/html": [
       "<div>\n",
       "<style scoped>\n",
       "    .dataframe tbody tr th:only-of-type {\n",
       "        vertical-align: middle;\n",
       "    }\n",
       "\n",
       "    .dataframe tbody tr th {\n",
       "        vertical-align: top;\n",
       "    }\n",
       "\n",
       "    .dataframe thead th {\n",
       "        text-align: right;\n",
       "    }\n",
       "</style>\n",
       "<table border=\"1\" class=\"dataframe\">\n",
       "  <thead>\n",
       "    <tr style=\"text-align: right;\">\n",
       "      <th></th>\n",
       "      <th>Product_ID</th>\n",
       "      <th>Product_Name</th>\n",
       "      <th>Category</th>\n",
       "      <th>Price</th>\n",
       "      <th>Stock_Quantity</th>\n",
       "      <th>Supplier</th>\n",
       "    </tr>\n",
       "  </thead>\n",
       "  <tbody>\n",
       "    <tr>\n",
       "      <th>2</th>\n",
       "      <td>TG003</td>\n",
       "      <td>Gadget 3</td>\n",
       "      <td>Accessories</td>\n",
       "      <td>44.85</td>\n",
       "      <td>11</td>\n",
       "      <td>DeskMate</td>\n",
       "    </tr>\n",
       "    <tr>\n",
       "      <th>3</th>\n",
       "      <td>TG004</td>\n",
       "      <td>Gadget 4</td>\n",
       "      <td>Charging</td>\n",
       "      <td>92.02</td>\n",
       "      <td>42</td>\n",
       "      <td>PowerPlus</td>\n",
       "    </tr>\n",
       "    <tr>\n",
       "      <th>4</th>\n",
       "      <td>TG005</td>\n",
       "      <td>Gadget 5</td>\n",
       "      <td>Audio</td>\n",
       "      <td>49.79</td>\n",
       "      <td>12</td>\n",
       "      <td>SoundMax</td>\n",
       "    </tr>\n",
       "    <tr>\n",
       "      <th>11</th>\n",
       "      <td>TG012</td>\n",
       "      <td>Gadget 12</td>\n",
       "      <td>Cables</td>\n",
       "      <td>40.21</td>\n",
       "      <td>39</td>\n",
       "      <td>TechCorp</td>\n",
       "    </tr>\n",
       "    <tr>\n",
       "      <th>14</th>\n",
       "      <td>TG015</td>\n",
       "      <td>Gadget 15</td>\n",
       "      <td>Charging</td>\n",
       "      <td>63.93</td>\n",
       "      <td>21</td>\n",
       "      <td>GuardPro</td>\n",
       "    </tr>\n",
       "    <tr>\n",
       "      <th>24</th>\n",
       "      <td>TG025</td>\n",
       "      <td>Gadget 25</td>\n",
       "      <td>Accessories</td>\n",
       "      <td>19.68</td>\n",
       "      <td>40</td>\n",
       "      <td>ChargeFast</td>\n",
       "    </tr>\n",
       "    <tr>\n",
       "      <th>26</th>\n",
       "      <td>TG027</td>\n",
       "      <td>Gadget 27</td>\n",
       "      <td>Accessories</td>\n",
       "      <td>95.90</td>\n",
       "      <td>30</td>\n",
       "      <td>DeskMate</td>\n",
       "    </tr>\n",
       "  </tbody>\n",
       "</table>\n",
       "</div>"
      ],
      "text/plain": [
       "   Product_ID Product_Name     Category  Price  Stock_Quantity    Supplier\n",
       "2       TG003     Gadget 3  Accessories  44.85              11    DeskMate\n",
       "3       TG004     Gadget 4     Charging  92.02              42   PowerPlus\n",
       "4       TG005     Gadget 5        Audio  49.79              12    SoundMax\n",
       "11      TG012    Gadget 12       Cables  40.21              39    TechCorp\n",
       "14      TG015    Gadget 15     Charging  63.93              21    GuardPro\n",
       "24      TG025    Gadget 25  Accessories  19.68              40  ChargeFast\n",
       "26      TG027    Gadget 27  Accessories  95.90              30    DeskMate"
      ]
     },
     "execution_count": 33,
     "metadata": {},
     "output_type": "execute_result"
    }
   ],
   "source": [
    "# a) Filter products with less than 50 items in stock\n",
    "\n",
    "products_less_than_50_items = techgadget_products[techgadget_products[\"Stock_Quantity\"] < 50]\n",
    "\n",
    "print(\"Products have less than 50 items\")\n",
    "products_less_than_50_items\n"
   ]
  },
  {
   "cell_type": "code",
   "execution_count": 38,
   "id": "29f6549f-6551-411a-be33-ea76e280eec2",
   "metadata": {},
   "outputs": [
    {
     "data": {
      "text/html": [
       "<div>\n",
       "<style scoped>\n",
       "    .dataframe tbody tr th:only-of-type {\n",
       "        vertical-align: middle;\n",
       "    }\n",
       "\n",
       "    .dataframe tbody tr th {\n",
       "        vertical-align: top;\n",
       "    }\n",
       "\n",
       "    .dataframe thead th {\n",
       "        text-align: right;\n",
       "    }\n",
       "</style>\n",
       "<table border=\"1\" class=\"dataframe\">\n",
       "  <thead>\n",
       "    <tr style=\"text-align: right;\">\n",
       "      <th></th>\n",
       "      <th>Product_ID</th>\n",
       "      <th>Product_Name</th>\n",
       "      <th>Category</th>\n",
       "      <th>Price</th>\n",
       "      <th>Stock_Quantity</th>\n",
       "      <th>Supplier</th>\n",
       "    </tr>\n",
       "  </thead>\n",
       "  <tbody>\n",
       "    <tr>\n",
       "      <th>0</th>\n",
       "      <td>TG001</td>\n",
       "      <td>Gadget 1</td>\n",
       "      <td>Charging</td>\n",
       "      <td>10.67</td>\n",
       "      <td>132</td>\n",
       "      <td>ChargeFast</td>\n",
       "    </tr>\n",
       "    <tr>\n",
       "      <th>1</th>\n",
       "      <td>TG002</td>\n",
       "      <td>Gadget 2</td>\n",
       "      <td>Charging</td>\n",
       "      <td>65.46</td>\n",
       "      <td>234</td>\n",
       "      <td>TechCorp</td>\n",
       "    </tr>\n",
       "    <tr>\n",
       "      <th>3</th>\n",
       "      <td>TG004</td>\n",
       "      <td>Gadget 4</td>\n",
       "      <td>Charging</td>\n",
       "      <td>92.02</td>\n",
       "      <td>42</td>\n",
       "      <td>PowerPlus</td>\n",
       "    </tr>\n",
       "    <tr>\n",
       "      <th>12</th>\n",
       "      <td>TG013</td>\n",
       "      <td>Gadget 13</td>\n",
       "      <td>Charging</td>\n",
       "      <td>51.72</td>\n",
       "      <td>228</td>\n",
       "      <td>DeskMate</td>\n",
       "    </tr>\n",
       "    <tr>\n",
       "      <th>14</th>\n",
       "      <td>TG015</td>\n",
       "      <td>Gadget 15</td>\n",
       "      <td>Charging</td>\n",
       "      <td>63.93</td>\n",
       "      <td>21</td>\n",
       "      <td>GuardPro</td>\n",
       "    </tr>\n",
       "    <tr>\n",
       "      <th>21</th>\n",
       "      <td>TG022</td>\n",
       "      <td>Gadget 22</td>\n",
       "      <td>Charging</td>\n",
       "      <td>92.27</td>\n",
       "      <td>129</td>\n",
       "      <td>PowerPlus</td>\n",
       "    </tr>\n",
       "    <tr>\n",
       "      <th>29</th>\n",
       "      <td>TG030</td>\n",
       "      <td>Gadget 30</td>\n",
       "      <td>Charging</td>\n",
       "      <td>84.95</td>\n",
       "      <td>74</td>\n",
       "      <td>SoundMax</td>\n",
       "    </tr>\n",
       "  </tbody>\n",
       "</table>\n",
       "</div>"
      ],
      "text/plain": [
       "   Product_ID Product_Name  Category  Price  Stock_Quantity    Supplier\n",
       "0       TG001     Gadget 1  Charging  10.67             132  ChargeFast\n",
       "1       TG002     Gadget 2  Charging  65.46             234    TechCorp\n",
       "3       TG004     Gadget 4  Charging  92.02              42   PowerPlus\n",
       "12      TG013    Gadget 13  Charging  51.72             228    DeskMate\n",
       "14      TG015    Gadget 15  Charging  63.93              21    GuardPro\n",
       "21      TG022    Gadget 22  Charging  92.27             129   PowerPlus\n",
       "29      TG030    Gadget 30  Charging  84.95              74    SoundMax"
      ]
     },
     "execution_count": 38,
     "metadata": {},
     "output_type": "execute_result"
    }
   ],
   "source": [
    "# b) filtering to find all 'Charging' category products with their stock levels\n",
    "\n",
    "charging_category_products = techgadget_products[techgadget_products[\"Category\"] == \"Charging\"]\n",
    "\n",
    "charging_category_products\n",
    "\n"
   ]
  },
  {
   "cell_type": "code",
   "execution_count": 49,
   "id": "6273f78e-7e6d-428f-8d37-0a4a39c4a502",
   "metadata": {},
   "outputs": [
    {
     "name": "stdout",
     "output_type": "stream",
     "text": [
      "Number of products supplied by each supplier:\n",
      "Supplier\n",
      "ChargeFast    8\n",
      "DeskMate      6\n",
      "SoundMax      6\n",
      "PowerPlus     5\n",
      "GuardPro      3\n",
      "TechCorp      2\n",
      "Name: count, dtype: int64\n"
     ]
    }
   ],
   "source": [
    "\n",
    "\n",
    "# c) filtering to find Which supplier provides the most products\n",
    "\n",
    "supplier_provide_most_products = techgadget_products[\"Supplier\"].value_counts()\n",
    "\n",
    "# Display the full count list\n",
    "print(\"Number of products supplied by each supplier:\")\n",
    "print(supplier_provide_most_products)\n",
    "\n",
    "# Get the supplier with the most products\n",
    "top_most = supplier_provide_most_products.idxmax()\n",
    "most_products = supplier_provide_most_products.max()\n",
    "\n"
   ]
  },
  {
   "cell_type": "markdown",
   "id": "be6ca646-6c96-42db-84b7-09c4e1f5b2f4",
   "metadata": {},
   "source": [
    "### Question 4: Business Insights"
   ]
  },
  {
   "cell_type": "code",
   "execution_count": 63,
   "id": "60166f41-d69b-4f6b-94af-f85cf14a8143",
   "metadata": {},
   "outputs": [
    {
     "data": {
      "text/html": [
       "<div>\n",
       "<style scoped>\n",
       "    .dataframe tbody tr th:only-of-type {\n",
       "        vertical-align: middle;\n",
       "    }\n",
       "\n",
       "    .dataframe tbody tr th {\n",
       "        vertical-align: top;\n",
       "    }\n",
       "\n",
       "    .dataframe thead th {\n",
       "        text-align: right;\n",
       "    }\n",
       "</style>\n",
       "<table border=\"1\" class=\"dataframe\">\n",
       "  <thead>\n",
       "    <tr style=\"text-align: right;\">\n",
       "      <th></th>\n",
       "      <th>Product_ID</th>\n",
       "      <th>Product_Name</th>\n",
       "      <th>Category</th>\n",
       "      <th>Price</th>\n",
       "      <th>Stock_Quantity</th>\n",
       "      <th>Supplier</th>\n",
       "    </tr>\n",
       "  </thead>\n",
       "  <tbody>\n",
       "    <tr>\n",
       "      <th>2</th>\n",
       "      <td>TG003</td>\n",
       "      <td>Gadget 3</td>\n",
       "      <td>Accessories</td>\n",
       "      <td>44.85</td>\n",
       "      <td>11</td>\n",
       "      <td>DeskMate</td>\n",
       "    </tr>\n",
       "    <tr>\n",
       "      <th>13</th>\n",
       "      <td>TG014</td>\n",
       "      <td>Gadget 14</td>\n",
       "      <td>Accessories</td>\n",
       "      <td>43.53</td>\n",
       "      <td>214</td>\n",
       "      <td>SoundMax</td>\n",
       "    </tr>\n",
       "    <tr>\n",
       "      <th>20</th>\n",
       "      <td>TG021</td>\n",
       "      <td>Gadget 21</td>\n",
       "      <td>Accessories</td>\n",
       "      <td>94.77</td>\n",
       "      <td>206</td>\n",
       "      <td>PowerPlus</td>\n",
       "    </tr>\n",
       "    <tr>\n",
       "      <th>23</th>\n",
       "      <td>TG024</td>\n",
       "      <td>Gadget 24</td>\n",
       "      <td>Accessories</td>\n",
       "      <td>30.36</td>\n",
       "      <td>146</td>\n",
       "      <td>DeskMate</td>\n",
       "    </tr>\n",
       "    <tr>\n",
       "      <th>26</th>\n",
       "      <td>TG027</td>\n",
       "      <td>Gadget 27</td>\n",
       "      <td>Accessories</td>\n",
       "      <td>95.90</td>\n",
       "      <td>30</td>\n",
       "      <td>DeskMate</td>\n",
       "    </tr>\n",
       "    <tr>\n",
       "      <th>28</th>\n",
       "      <td>TG029</td>\n",
       "      <td>Gadget 29</td>\n",
       "      <td>Accessories</td>\n",
       "      <td>94.85</td>\n",
       "      <td>236</td>\n",
       "      <td>PowerPlus</td>\n",
       "    </tr>\n",
       "  </tbody>\n",
       "</table>\n",
       "</div>"
      ],
      "text/plain": [
       "   Product_ID Product_Name     Category  Price  Stock_Quantity   Supplier\n",
       "2       TG003     Gadget 3  Accessories  44.85              11   DeskMate\n",
       "13      TG014    Gadget 14  Accessories  43.53             214   SoundMax\n",
       "20      TG021    Gadget 21  Accessories  94.77             206  PowerPlus\n",
       "23      TG024    Gadget 24  Accessories  30.36             146   DeskMate\n",
       "26      TG027    Gadget 27  Accessories  95.90              30   DeskMate\n",
       "28      TG029    Gadget 29  Accessories  94.85             236  PowerPlus"
      ]
     },
     "execution_count": 63,
     "metadata": {},
     "output_type": "execute_result"
    }
   ],
   "source": [
    "# a) Find expensive accessories (Accessories category, price > $30)\n",
    "\n",
    "expensive_accessories = techgadget_products[\n",
    "    (techgadget_products[\"Category\"] == \"Accessories\") & \n",
    "    (techgadget_products[\"Price\"] > 30)\n",
    "]\n",
    "\n",
    "expensive_accessories\n",
    "\n"
   ]
  },
  {
   "cell_type": "code",
   "execution_count": null,
   "id": "60ad646e-91ff-458f-9efa-476f296d28c6",
   "metadata": {},
   "outputs": [],
   "source": []
  }
 ],
 "metadata": {
  "kernelspec": {
   "display_name": "Python 3 (ipykernel)",
   "language": "python",
   "name": "python3"
  },
  "language_info": {
   "codemirror_mode": {
    "name": "ipython",
    "version": 3
   },
   "file_extension": ".py",
   "mimetype": "text/x-python",
   "name": "python",
   "nbconvert_exporter": "python",
   "pygments_lexer": "ipython3",
   "version": "3.13.5"
  }
 },
 "nbformat": 4,
 "nbformat_minor": 5
}
