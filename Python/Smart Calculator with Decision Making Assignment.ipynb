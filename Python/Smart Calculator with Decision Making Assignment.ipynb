{
 "cells": [
  {
   "cell_type": "markdown",
   "id": "b2dec089-7f3f-46e0-a39a-59f25e13af26",
   "metadata": {},
   "source": [
    "# Smart Calculator with Decision Making Assignment"
   ]
  },
  {
   "cell_type": "code",
   "execution_count": 7,
   "id": "02d85b1d-15df-4ed1-9ff4-9e0ea866ab43",
   "metadata": {},
   "outputs": [
    {
     "name": "stdin",
     "output_type": "stream",
     "text": [
      "Enter first number:  23\n",
      "Enter second number:  21\n"
     ]
    },
    {
     "name": "stdout",
     "output_type": "stream",
     "text": [
      "\n",
      "Choose an operation:\n",
      "a. Addition (+)\n",
      "b. Subtraction (-)\n",
      "c. Multiplication (*)\n",
      "d. Division (/)\n",
      "e. Power (**)\n",
      "f. Remainder (%)\n"
     ]
    },
    {
     "name": "stdin",
     "output_type": "stream",
     "text": [
      "Enter operator (+, -, *, /, **, %):  +\n"
     ]
    },
    {
     "name": "stdout",
     "output_type": "stream",
     "text": [
      "Result: 23.0 + 21.0 = 44.0\n",
      "Calculation complete.\n"
     ]
    }
   ],
   "source": [
    "def smart_calculator():\n",
    "\n",
    "    try:\n",
    "        # 1. Ask the user for two numbers\n",
    "        num1 = float(input(\"Enter first number: \"))\n",
    "        \n",
    "        num2 = float(input(\"Enter second number: \"))\n",
    "\n",
    "\n",
    "        # 2. Ask what operation they want to perform\n",
    "\n",
    "        print(\"\\nChoose an operation:\")\n",
    "\n",
    "        print(\"a. Addition (+)\")\n",
    "\n",
    "        print(\"b. Subtraction (-)\")\n",
    "\n",
    "        print(\"c. Multiplication (*)\")\n",
    "\n",
    "        print(\"d. Division (/)\")\n",
    "\n",
    "        print(\"e. Power (**)\")\n",
    "\n",
    "        print(\"f. Remainder (%)\")\n",
    "        \n",
    "        operation = input(\"Enter operator (+, -, *, /, **, %): \").strip()\n",
    "\n",
    "\n",
    "        # 3. Perform calculation using if/elif\n",
    "        \n",
    "        if operation == '+':\n",
    "            result = num1 + num2\n",
    "            print(f\"Result: {num1} + {num2} = {result}\")\n",
    "\n",
    "        elif operation == '-':\n",
    "            result = num1 - num2\n",
    "            print(f\"Result: {num1} - {num2} = {result}\")\n",
    "\n",
    "        elif operation == '*':\n",
    "            result = num1 * num2\n",
    "            print(f\"Result: {num1} * {num2} = {result}\")\n",
    "\n",
    "        elif operation == '/':\n",
    "            # 4. Handle division by zero\n",
    "            if num2 == 0:\n",
    "                print(\"Error: Cannot divide by zero.\")\n",
    "            else:\n",
    "                result = num1 / num2\n",
    "                print(f\"Result: {num1} / {num2} = {result}\")\n",
    "\n",
    "        elif operation == '**':\n",
    "            result = num1 ** num2\n",
    "            print(f\"Result: {num1} ** {num2} = {result}\")\n",
    "\n",
    "        elif operation == '%':\n",
    "            if num2 == 0:\n",
    "                print(\"Error: Cannot find remainder with zero.\")\n",
    "            else:\n",
    "                result = num1 % num2\n",
    "                print(f\"Result: {num1} % {num2} = {result}\")\n",
    "\n",
    "        else:\n",
    "            print(\"Invalid operation. Please select a valid operator.\")\n",
    "\n",
    "\n",
    "            \n",
    "        # 5. Feedback based on results\n",
    "        \n",
    "        if 'result' in locals():\n",
    "            \n",
    "            if result > 1000:\n",
    "                \n",
    "                print(\"That's a big number!\")\n",
    "                \n",
    "            elif result == 0:\n",
    "                \n",
    "                print(\"Result is zero.\")\n",
    "                \n",
    "            elif result < 0:\n",
    "                \n",
    "                print(\"Result is a negative number.\")\n",
    "                \n",
    "            else:\n",
    "                \n",
    "                print(\"Calculation complete.\")\n",
    "\n",
    "    except ValueError:\n",
    "        \n",
    "        print(\"Please enter valid numeric values.\")\n",
    "\n",
    "# Run the calculator\n",
    "\n",
    "smart_calculator()\n",
    "            "
   ]
  },
  {
   "cell_type": "code",
   "execution_count": null,
   "id": "8969d12c-73f7-4481-aa56-d139a66059d2",
   "metadata": {},
   "outputs": [],
   "source": [
    "\n"
   ]
  }
 ],
 "metadata": {
  "kernelspec": {
   "display_name": "Python 3 (ipykernel)",
   "language": "python",
   "name": "python3"
  },
  "language_info": {
   "codemirror_mode": {
    "name": "ipython",
    "version": 3
   },
   "file_extension": ".py",
   "mimetype": "text/x-python",
   "name": "python",
   "nbconvert_exporter": "python",
   "pygments_lexer": "ipython3",
   "version": "3.13.5"
  }
 },
 "nbformat": 4,
 "nbformat_minor": 5
}
